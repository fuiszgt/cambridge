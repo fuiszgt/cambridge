{
 "cells": [
  {
   "cell_type": "markdown",
   "metadata": {
    "deletable": false,
    "editable": false,
    "nbgrader": {
     "cell_type": "markdown",
     "checksum": "ef40d350068778f3d4c850260b485e01",
     "grade": false,
     "grade_id": "cell-b0fa810599db39c2",
     "locked": true,
     "schema_version": 3,
     "solution": false,
     "task": false
    }
   },
   "source": [
    "# Foundations of Computer Science (1 of 4)\n",
    "\n",
    "\n",
    "Fill in the various `TODO` items, then submit a copy of this notebook \n",
    "to Craig Ferguson (`me@craigfe.io`) at least 48 hours before the supervision. \n",
    "\n",
    "Do _not_ use any helper modules in the standard library (`List`, `Set`,\n",
    "`Hashtbl` etc.). In particular, you should define utilities such as `filter`,\n",
    "`map` and `fold` etc. yourself.\n"
   ]
  },
  {
   "cell_type": "code",
   "execution_count": 1,
   "metadata": {},
   "outputs": [
    {
     "data": {
      "text/plain": [
       "val crsid : string = \"TODO\"\n"
      ]
     },
     "execution_count": 1,
     "metadata": {},
     "output_type": "execute_result"
    },
    {
     "ename": "error",
     "evalue": "runtime_error",
     "output_type": "error",
     "traceback": [
      "\u001b[31mException: Assert_failure (\"[1]\", 3, 3).\nCalled from file \"toplevel/toploop.ml\", line 208, characters 17-27\n\u001b[0m"
     ]
    }
   ],
   "source": [
    "let crsid = \"gtf23\"\n",
    "\n",
    ";; assert (crsid <> \"TODO\")"
   ]
  },
  {
   "cell_type": "markdown",
   "metadata": {
    "deletable": false,
    "editable": false,
    "nbgrader": {
     "cell_type": "markdown",
     "checksum": "1e3704998e02ec3d593fdcf5d88104db",
     "grade": false,
     "grade_id": "cell-9b323d885ca84d01",
     "locked": true,
     "schema_version": 3,
     "solution": false,
     "task": false
    }
   },
   "source": [
    "<hr/>\n",
    "\n",
    "## 1. Type inference\n",
    "\n",
    "Briefly justify the inferred types of each of the following values:\n"
   ]
  },
  {
   "cell_type": "code",
   "execution_count": null,
   "metadata": {
    "deletable": false,
    "editable": false,
    "nbgrader": {
     "cell_type": "code",
     "checksum": "7971b89982fb7372c5d5dfa7e0db9285",
     "grade": false,
     "grade_id": "cell-f3aa232a79ab9925",
     "locked": true,
     "schema_version": 3,
     "solution": false,
     "task": false
    }
   },
   "outputs": [],
   "source": [
    "let a x y = x"
   ]
  },
  {
   "cell_type": "markdown",
   "metadata": {
    "deletable": false,
    "nbgrader": {
     "cell_type": "markdown",
     "checksum": "a67f46589f36bc31ec8706e5d957e4ba",
     "grade": true,
     "grade_id": "cell-ce0079616ae428a1",
     "locked": false,
     "points": 1,
     "schema_version": 3,
     "solution": true,
     "task": false
    }
   },
   "source": [
    "x and y can be of any type independently, the return type is the same as x's type."
   ]
  },
  {
   "cell_type": "code",
   "execution_count": null,
   "metadata": {
    "deletable": false,
    "editable": false,
    "nbgrader": {
     "cell_type": "code",
     "checksum": "23f91d8eb516273e647711e32037c5e4",
     "grade": false,
     "grade_id": "cell-45c2f5db10bb3e1d",
     "locked": true,
     "schema_version": 3,
     "solution": false,
     "task": false
    }
   },
   "outputs": [],
   "source": [
    "let b x y z = if x then y else z"
   ]
  },
  {
   "cell_type": "markdown",
   "metadata": {
    "deletable": false,
    "nbgrader": {
     "cell_type": "markdown",
     "checksum": "b096088b564ce6346923dca59b93f563",
     "grade": true,
     "grade_id": "cell-23df9a7680832375",
     "locked": false,
     "points": 1,
     "schema_version": 3,
     "solution": true,
     "task": false
    }
   },
   "source": [
    "x must be bool because of the if, and since y and z can both be returned, their type, and the return type all are the same."
   ]
  },
  {
   "cell_type": "code",
   "execution_count": null,
   "metadata": {
    "deletable": false,
    "editable": false,
    "nbgrader": {
     "cell_type": "code",
     "checksum": "72ec7ac7a2db8404891fb86871d73daf",
     "grade": false,
     "grade_id": "cell-54fa9c51334f20c5",
     "locked": true,
     "schema_version": 3,
     "solution": false,
     "task": false
    }
   },
   "outputs": [],
   "source": [
    "let c x y = x y"
   ]
  },
  {
   "cell_type": "markdown",
   "metadata": {
    "deletable": false,
    "nbgrader": {
     "cell_type": "markdown",
     "checksum": "50b59ff080055b99e7d63fa003ac38d0",
     "grade": true,
     "grade_id": "cell-e2da2529e234e2f4",
     "locked": false,
     "points": 1,
     "schema_version": 3,
     "solution": true,
     "task": false
    }
   },
   "source": [
    "The return is x applied to y, so x is a function of any type, and y is of the input type of x."
   ]
  },
  {
   "cell_type": "code",
   "execution_count": null,
   "metadata": {
    "deletable": false,
    "editable": false,
    "nbgrader": {
     "cell_type": "code",
     "checksum": "383eec76e993d279b87f6d26b5065926",
     "grade": false,
     "grade_id": "cell-c55acf860f27da3f",
     "locked": true,
     "schema_version": 3,
     "solution": false,
     "task": false
    }
   },
   "outputs": [],
   "source": [
    "let c' x y = x (y : _ -> _)"
   ]
  },
  {
   "cell_type": "markdown",
   "metadata": {
    "deletable": false,
    "nbgrader": {
     "cell_type": "markdown",
     "checksum": "a6c9cc33013265b4f5d3f34afca62fb7",
     "grade": true,
     "grade_id": "cell-233a97aab9debcc4",
     "locked": false,
     "points": 1,
     "schema_version": 3,
     "solution": true,
     "task": false
    }
   },
   "source": [
    "y is declared to be some function, so x is a function mapping from some function to some type."
   ]
  },
  {
   "cell_type": "code",
   "execution_count": null,
   "metadata": {
    "deletable": false,
    "editable": false,
    "nbgrader": {
     "cell_type": "code",
     "checksum": "ba1b58dfe6fbc669aa6c5a7aabb5eb9d",
     "grade": false,
     "grade_id": "cell-453ca778f8706646",
     "locked": true,
     "schema_version": 3,
     "solution": false,
     "task": false
    }
   },
   "outputs": [],
   "source": [
    "let rec d _ x = d [ x ] true"
   ]
  },
  {
   "cell_type": "markdown",
   "metadata": {
    "deletable": false,
    "nbgrader": {
     "cell_type": "markdown",
     "checksum": "a2eb01abf683c17567adc6f4a059e891",
     "grade": true,
     "grade_id": "cell-a138f51838d24673",
     "locked": false,
     "points": 2,
     "schema_version": 3,
     "solution": true,
     "task": false
    }
   },
   "source": [
    "d is called on [x] and true, so x is bool, so the first argument is a bool list."
   ]
  },
  {
   "cell_type": "markdown",
   "metadata": {
    "deletable": false,
    "editable": false,
    "nbgrader": {
     "cell_type": "markdown",
     "checksum": "62372f9fd78a91c777e4b25d54446052",
     "grade": false,
     "grade_id": "cell-461df6f2a4cb07e1",
     "locked": true,
     "schema_version": 3,
     "solution": false,
     "task": false
    }
   },
   "source": [
    "Consider the following questions, which we may discuss in the supervision:\n",
    "\n",
    "- What _is_ a type?\n",
    "- What does it mean for two types to be _equal_?\n",
    "- Can an OCaml expression have no type?\n",
    "- Can an OCaml expression have more than one type?\n",
    "\n",
    "\n",
    "<hr/>"
   ]
  },
  {
   "cell_type": "markdown",
   "metadata": {
    "deletable": false,
    "editable": false,
    "nbgrader": {
     "cell_type": "markdown",
     "checksum": "b5973979fd0f627d673ca356ab13a38c",
     "grade": false,
     "grade_id": "cell-c9fcdef2c7b81713",
     "locked": true,
     "schema_version": 3,
     "solution": false,
     "task": false
    }
   },
   "source": [
    "## 2. Domain modelling\n",
    "\n",
    "> Relevant reading: Chapter 6 of the notes\n",
    "\n",
    "In statically-typed programming, the first step of problem-solving is to consider the internal shape of the data being manipulated and (if necessary) define types that capture that structure, ideally in a way that makes invalid states inexpressible. If our types are too large – that is, contain invalid terms – our code will need to assert that fact at runtime.\n",
    "\n",
    "For instance, if we're writing a banking system in which each transaction contains one-or-more participants, using a `participant list` to encode this relationship admits the invalid state `[]`:\n",
    "\n",
    "\n",
    "```ocaml\n",
    "type participants = participant list\n",
    "\n",
    "(* .. *)\n",
    "let process_transaction : participants -> response = function\n",
    "  | initiator :: others -> handle_transaction initiator others\n",
    "  | [] -> assert false (* This can never happen in practice, I promise.\n",
    "                          Trust me, I'm a professional. *)\n",
    "```\n",
    "\n",
    "This relationship betwen types (correctness via proof) and run-time assertions (correctness via pinky-promise) is one of the reasons that it's important to pick the right types for your problem. Even more importantly, it's an easy source of introductory exam questions, so worth focussing on.\n",
    "\n",
    "For each of the following sets (or families of sets), give a type (or sequence of types) that models it:"
   ]
  },
  {
   "cell_type": "markdown",
   "metadata": {
    "deletable": false,
    "editable": false,
    "nbgrader": {
     "cell_type": "markdown",
     "checksum": "220b558dc6acf64014e9436003f04482",
     "grade": false,
     "grade_id": "cell-a199be58ef6dc26b",
     "locked": true,
     "schema_version": 3,
     "solution": false,
     "task": false
    }
   },
   "source": [
    "- The complex numbers."
   ]
  },
  {
   "cell_type": "code",
   "execution_count": null,
   "metadata": {
    "deletable": false,
    "nbgrader": {
     "cell_type": "code",
     "checksum": "c7a53a72dec9952b518a58985bc195cb",
     "grade": true,
     "grade_id": "cell-c2bc6f1e508822bc",
     "locked": false,
     "points": 1,
     "schema_version": 3,
     "solution": true,
     "task": false
    }
   },
   "outputs": [],
   "source": [
    "type complex = float*float"
   ]
  },
  {
   "cell_type": "markdown",
   "metadata": {
    "deletable": false,
    "editable": false,
    "nbgrader": {
     "cell_type": "markdown",
     "checksum": "7d99ee8bcfe854f880f33e02ebb49ba4",
     "grade": false,
     "grade_id": "cell-e4b0ddf085899ada",
     "locked": true,
     "schema_version": 3,
     "solution": false,
     "task": false
    }
   },
   "source": [
    "- The RGB colour space."
   ]
  },
  {
   "cell_type": "code",
   "execution_count": null,
   "metadata": {
    "deletable": false,
    "nbgrader": {
     "cell_type": "code",
     "checksum": "d39c06c4b6951246df809d3846a50a1b",
     "grade": true,
     "grade_id": "cell-5d62b88b624a1b05",
     "locked": false,
     "points": 1,
     "schema_version": 3,
     "solution": true,
     "task": false
    }
   },
   "outputs": [],
   "source": [
    "type RGB = int*int*int (* Q: How could we limit it to 0-255? *)"
   ]
  },
  {
   "cell_type": "markdown",
   "metadata": {
    "deletable": false,
    "editable": false,
    "nbgrader": {
     "cell_type": "markdown",
     "checksum": "fdf5f7953b12f0f96f328ca4d2f00f33",
     "grade": false,
     "grade_id": "cell-1efcd927df5035be",
     "locked": true,
     "schema_version": 3,
     "solution": false,
     "task": false
    }
   },
   "source": [
    "- For each set $S$, all permutations of zero-or-more elements of $S$."
   ]
  },
  {
   "cell_type": "code",
   "execution_count": null,
   "metadata": {
    "deletable": false,
    "nbgrader": {
     "cell_type": "code",
     "checksum": "e96fddd853b394f258a64451c5980b91",
     "grade": true,
     "grade_id": "cell-cc04123cb7de8ce3",
     "locked": false,
     "points": 1,
     "schema_version": 3,
     "solution": true,
     "task": false
    }
   },
   "outputs": [],
   "source": [
    "type 'a permutation = 'a list;"
   ]
  },
  {
   "cell_type": "markdown",
   "metadata": {
    "deletable": false,
    "editable": false,
    "nbgrader": {
     "cell_type": "markdown",
     "checksum": "926f73b413d98afd367d7562cd80dcfc",
     "grade": false,
     "grade_id": "cell-36ffb221ee9ef63e",
     "locked": true,
     "schema_version": 3,
     "solution": false,
     "task": false
    }
   },
   "source": [
    "- For each set $S$, the set $S \\cup \\{ \\texttt{Bottom} \\}$ containing a _new_ constant term $\\texttt{Bottom}$ that is not in $S$."
   ]
  },
  {
   "cell_type": "code",
   "execution_count": null,
   "metadata": {
    "deletable": false,
    "nbgrader": {
     "cell_type": "code",
     "checksum": "75546568b8e8b12c93d0c65275910cd9",
     "grade": true,
     "grade_id": "cell-53e8b4b486b8ab7d",
     "locked": false,
     "points": 1,
     "schema_version": 3,
     "solution": true,
     "task": false
    }
   },
   "outputs": [],
   "source": [
    "type 'element permutationWithBottom =\n",
    "    Bottom\n",
    "    | 'element list;"
   ]
  },
  {
   "cell_type": "markdown",
   "metadata": {
    "deletable": false,
    "editable": false,
    "nbgrader": {
     "cell_type": "markdown",
     "checksum": "c782009377fdf0860c9999feb5552548",
     "grade": false,
     "grade_id": "cell-7f63ec12ca0bb813",
     "locked": true,
     "schema_version": 3,
     "solution": false,
     "task": false
    }
   },
   "source": [
    "> **Hint**: the polymorphic type `'a t` can be considered as a _family_ of types, indexed by a particular choice of `'a`. For instance, `'a list` is a family including the types `int list` and `string list`."
   ]
  },
  {
   "cell_type": "markdown",
   "metadata": {
    "deletable": false,
    "editable": false,
    "nbgrader": {
     "cell_type": "markdown",
     "checksum": "5d88a304f0a29a72d7db4213d16c4abd",
     "grade": false,
     "grade_id": "cell-33a6e1817a42274c",
     "locked": true,
     "schema_version": 3,
     "solution": false,
     "task": false
    }
   },
   "source": [
    "Consider the following questions, which we may discuss in the supervision:\n",
    "\n",
    "- Are there any OCaml types $t$ such that there are no expressions of type $t$?\n",
    "\n",
    "- Are there any OCaml types $t$ such that there are no _values_ of type $t$ (i.e. empty types)? Would such a type have any practical meaning?\n",
    "\n",
    "<hr/>"
   ]
  },
  {
   "cell_type": "markdown",
   "metadata": {
    "deletable": false,
    "editable": false,
    "nbgrader": {
     "cell_type": "markdown",
     "checksum": "d8ab192499c8c9bf79c9099ac0bb0632",
     "grade": false,
     "grade_id": "cell-5b2666fa34073a08",
     "locked": true,
     "schema_version": 3,
     "solution": false,
     "task": false
    }
   },
   "source": [
    "## 3. Mystery complexities\n",
    "\n",
    "> Relevant reading: Chapter 2 of the notes\n",
    "\n",
    "\n",
    "For each of the following functions:\n",
    "\n",
    "- Give a concise description of their _behaviour_ (not their implementation) – 1 mark each\n",
    "- State their space and time complexities _in terms of their non-functional parameters_, being as precise in your statement as possible – 2 marks each\n",
    "\n",
    "Assume that the compiler performs no optimisations on the given code.\n"
   ]
  },
  {
   "cell_type": "code",
   "execution_count": 2,
   "metadata": {
    "deletable": false,
    "editable": false,
    "nbgrader": {
     "cell_type": "code",
     "checksum": "c60486ac23d367ddb12f9960cfbcd90f",
     "grade": false,
     "grade_id": "cell-2f7a57e1a69ed923",
     "locked": true,
     "schema_version": 3,
     "solution": false,
     "task": false
    }
   },
   "outputs": [
    {
     "data": {
      "text/plain": [
       "val f : ('a -> bool) -> 'a list -> int = <fun>\n"
      ]
     },
     "execution_count": 2,
     "metadata": {},
     "output_type": "execute_result"
    }
   ],
   "source": [
    "let rec f pred l =\n",
    "  match l with\n",
    "  | [] -> 0\n",
    "  | x :: xs -> if pred x then 1 else 0 + f pred xs"
   ]
  },
  {
   "cell_type": "code",
   "execution_count": null,
   "metadata": {
    "deletable": false,
    "nbgrader": {
     "cell_type": "code",
     "checksum": "ed6a7af6b9072122025a2416ecab5774",
     "grade": true,
     "grade_id": "cell-f4815830cd4f88fa",
     "locked": false,
     "points": 0,
     "schema_version": 3,
     "solution": true,
     "task": false
    }
   },
   "outputs": [],
   "source": [
    "pred is a bool function with some input type 'a. \n",
    "Given pred and an 'a list, f counts the number of elements in l for which pred is true.\n",
    "Time complexity is linear with list length, and so is space complexity. (It is not a tail recursive function.)"
   ]
  },
  {
   "cell_type": "code",
   "execution_count": null,
   "metadata": {
    "deletable": false,
    "editable": false,
    "nbgrader": {
     "cell_type": "code",
     "checksum": "a5c841749b76df94b345e121ff0bbd36",
     "grade": false,
     "grade_id": "cell-776f9cff65009089",
     "locked": true,
     "schema_version": 3,
     "solution": false,
     "task": false
    }
   },
   "outputs": [],
   "source": [
    "let f' pred l =\n",
    "  let rec inner l acc =\n",
    "    match l with\n",
    "    | [] -> acc\n",
    "    | x :: xs ->\n",
    "        let inc = if pred x then 1 else 0 in\n",
    "        inner xs (acc + inc)\n",
    "  in\n",
    "  inner l 0"
   ]
  },
  {
   "cell_type": "code",
   "execution_count": null,
   "metadata": {
    "deletable": false,
    "nbgrader": {
     "cell_type": "code",
     "checksum": "31f825af608145eef4d94975a2e17b22",
     "grade": true,
     "grade_id": "cell-f71bb7aafc927609",
     "locked": false,
     "points": 0,
     "schema_version": 3,
     "solution": true,
     "task": false
    }
   },
   "outputs": [],
   "source": [
    "This is the same as above, except that it is tail-recursive, so space complexity is constant."
   ]
  },
  {
   "cell_type": "code",
   "execution_count": null,
   "metadata": {
    "deletable": false,
    "editable": false,
    "nbgrader": {
     "cell_type": "code",
     "checksum": "962116af6134e2a8a28b126f83e183a7",
     "grade": false,
     "grade_id": "cell-0df3b2f2af7445d3",
     "locked": true,
     "schema_version": 3,
     "solution": false,
     "task": false
    }
   },
   "outputs": [],
   "source": [
    "let rec g n = if n > 1 then g (n - 1) + g (n - 2) else n"
   ]
  },
  {
   "cell_type": "code",
   "execution_count": null,
   "metadata": {
    "deletable": false,
    "nbgrader": {
     "cell_type": "code",
     "checksum": "a2dfc72e8d144d47c3b24140ee898119",
     "grade": true,
     "grade_id": "cell-9e9d5ec7cc473c79",
     "locked": false,
     "points": 2,
     "schema_version": 3,
     "solution": true,
     "task": false
    }
   },
   "outputs": [],
   "source": [
    "This is the Fibonacci function. There are always two function calls for (n-1) and (n-2), this makes the time and space complexity exponential."
   ]
  },
  {
   "cell_type": "code",
   "execution_count": 10,
   "metadata": {
    "deletable": false,
    "editable": false,
    "nbgrader": {
     "cell_type": "code",
     "checksum": "6f6635ee23a6badc1770220b48e0b609",
     "grade": false,
     "grade_id": "cell-c0d8f1c547537bd4",
     "locked": true,
     "schema_version": 3,
     "solution": false,
     "task": false
    }
   },
   "outputs": [
    {
     "data": {
      "text/plain": [
       "val h : 'a list -> 'a list list = <fun>\n"
      ]
     },
     "execution_count": 10,
     "metadata": {},
     "output_type": "execute_result"
    }
   ],
   "source": [
    "let rec h l =\n",
    "  let rec id_map xs =\n",
    "    match xs with\n",
    "    | [] -> []\n",
    "    | x :: xs -> x :: id_map xs\n",
    "  in\n",
    "  match l with\n",
    "  | [] -> []\n",
    "  | _ :: tl -> id_map l :: h tl"
   ]
  },
  {
   "cell_type": "code",
   "execution_count": 9,
   "metadata": {},
   "outputs": [
    {
     "data": {
      "text/plain": [
       "val l : int list = [1; 2; 3]\n"
      ]
     },
     "execution_count": 9,
     "metadata": {},
     "output_type": "execute_result"
    },
    {
     "data": {
      "text/plain": [
       "- : int list list = [[1; 2; 3]; [2; 3]; [3]]\n"
      ]
     },
     "execution_count": 9,
     "metadata": {},
     "output_type": "execute_result"
    }
   ],
   "source": [
    "let l = 1::2::[3];;\n",
    "h l"
   ]
  },
  {
   "cell_type": "code",
   "execution_count": null,
   "metadata": {
    "deletable": false,
    "nbgrader": {
     "cell_type": "code",
     "checksum": "3f5c94f141d253ade0e8f823e9fa0a0f",
     "grade": true,
     "grade_id": "cell-c9b2c5f791daee95",
     "locked": false,
     "points": 1,
     "schema_version": 3,
     "solution": true,
     "task": false
    }
   },
   "outputs": [],
   "source": [
    "id_map is an identity mapping - for any input list, it returns the same list. \n",
    "However, while doing so, it takes up space and uses time in linear proportion to the lenght of its input.\n",
    "So, function h generates a list of lists, where the first list is the input list, the next is the input list but its first element,\n",
    "the second is the input list with the first two elements omitted and so on until a single element list with the input list's last element in it.\n",
    "The time complexity is n^2, because at the ith recursion we go over n-i elements. \n",
    "The space complexity is the same, because we are holding in memory all the subresults. (The sublists.)"
   ]
  },
  {
   "cell_type": "markdown",
   "metadata": {
    "deletable": false,
    "editable": false,
    "nbgrader": {
     "cell_type": "markdown",
     "checksum": "71751303cab36177f199a1ffc450859b",
     "grade": false,
     "grade_id": "cell-d38911a787f05224",
     "locked": true,
     "schema_version": 3,
     "solution": false,
     "task": false
    }
   },
   "source": [
    "Consider the following questions, which we may discuss in the supervision:\n",
    "\n",
    "- What is the time complexity of integer addition?\n",
    "- Are there any programs with time complexity $t(n)$ (for some $n$) and space complexity $s(n)$ such that $s$ grows more quickly than $t$?\n",
    "\n",
    "<hr/>"
   ]
  },
  {
   "cell_type": "markdown",
   "metadata": {
    "deletable": false,
    "editable": false,
    "nbgrader": {
     "cell_type": "markdown",
     "checksum": "a9881a7405dc1239e7a7ed53358bc9e3",
     "grade": false,
     "grade_id": "cell-e112ad0340d6c75a",
     "locked": true,
     "schema_version": 3,
     "solution": false,
     "task": false
    }
   },
   "source": [
    "## 4. Factors\n",
    "\n",
    "\n",
    "Write a function `factors` that converts a list of integers into a\n",
    "list of lists of the factors of those integers (each in increasing order).\n",
    "For example,\n",
    "      \n",
    "`factors [1; 4; 12] = [[1]; [1; 2; 4]; [1; 2; 3; 4; 6; 12]]`\n"
   ]
  },
  {
   "cell_type": "code",
   "execution_count": 33,
   "metadata": {
    "deletable": false,
    "nbgrader": {
     "cell_type": "code",
     "checksum": "258a55433a0bad29ce43d8a7d8e7d047",
     "grade": false,
     "grade_id": "cell-09feda257a70cf16",
     "locked": false,
     "schema_version": 3,
     "solution": true,
     "task": false
    }
   },
   "outputs": [
    {
     "data": {
      "text/plain": [
       "val divisors : int -> int -> int list = <fun>\n"
      ]
     },
     "execution_count": 33,
     "metadata": {},
     "output_type": "execute_result"
    },
    {
     "data": {
      "text/plain": [
       "val factors : int list -> int list list = <fun>\n"
      ]
     },
     "execution_count": 33,
     "metadata": {},
     "output_type": "execute_result"
    }
   ],
   "source": [
    "let rec divisors x y =\n",
    "    if (y = x) then [x]\n",
    "    else \n",
    "        if (x mod y) = 0 then y::divisors x (y+1)\n",
    "        else divisors x (y+1)\n",
    "    \n",
    "let rec factors list = \n",
    "match list with\n",
    "    |[] -> []\n",
    "    |x::xs -> (divisors x 1)::factors xs"
   ]
  },
  {
   "cell_type": "code",
   "execution_count": 34,
   "metadata": {
    "deletable": false,
    "editable": false,
    "nbgrader": {
     "cell_type": "code",
     "checksum": "9c5d3742a97d3d4459357d195a1d2c27",
     "grade": true,
     "grade_id": "cell-4755027c03bfd804",
     "locked": true,
     "points": 0,
     "schema_version": 3,
     "solution": false,
     "task": false
    }
   },
   "outputs": [
    {
     "data": {
      "text/plain": [
       "- : unit = ()\n"
      ]
     },
     "execution_count": 34,
     "metadata": {},
     "output_type": "execute_result"
    },
    {
     "data": {
      "text/plain": [
       "- : unit = ()\n"
      ]
     },
     "execution_count": 34,
     "metadata": {},
     "output_type": "execute_result"
    }
   ],
   "source": [
    "(* Tests of [factors] (feel free to add your own!) *)\n",
    "\n",
    ";; assert (factors [] = [])\n",
    ";; assert (factors [1] = [[1]])"
   ]
  },
  {
   "cell_type": "markdown",
   "metadata": {
    "deletable": false,
    "editable": false,
    "nbgrader": {
     "cell_type": "markdown",
     "checksum": "f1083b8ddfe61fe12f707d2e24fd31e1",
     "grade": false,
     "grade_id": "cell-b76ecfbc60bdeb3e",
     "locked": true,
     "points": 0,
     "schema_version": 3,
     "solution": false,
     "task": true
    }
   },
   "source": [
    "## 5. Sets (1995 Paper 1 Question 3)\n",
    "\n",
    "> Relevant reading: Chapter 8 of the notes\n",
    "\n",
    "An OCaml list can be considered to be a set if it has no repeated elements,\n",
    "e.g., `[4; 2; 3]` is a set but `[4; 2; 4; 3]` is not.\n",
    "\n",
    "Write an OCaml function `intersect` to compute the set-theoretic intersection of\n",
    "two lists that satisfy this property of being a set. (The intersection of two\n",
    "sets is the set of elements that appear in both sets.) Your function must also\n",
    "satisfy conditions (1)–(3) below:\n",
    "\n",
    "1. The result list has no repeated elements;\n",
    "\n",
    "2. The number of cons (`::`) operations performed does not exceed the number of\n",
    "elements in the result list.\n",
    "\n",
    "3. The elements of the result list appear in the same order as they do in the\n",
    "first argument list.\n",
    "\n",
    "You may assume the existence of `[]` (nil) and `::` (cons). All other functions over\n",
    "lists must be defined by you. Little credit will be given for answers that do\n",
    "not satisfy conditions (1)–(3).\n"
   ]
  },
  {
   "cell_type": "code",
   "execution_count": 44,
   "metadata": {
    "deletable": false,
    "nbgrader": {
     "cell_type": "code",
     "checksum": "2db75a0d3c806195b53ae3dcf503def4",
     "grade": false,
     "grade_id": "cell-edf39cc604f4ff21",
     "locked": false,
     "schema_version": 3,
     "solution": true,
     "task": false
    }
   },
   "outputs": [
    {
     "data": {
      "text/plain": [
       "val contains : 'a list -> 'a -> bool = <fun>\n"
      ]
     },
     "execution_count": 44,
     "metadata": {},
     "output_type": "execute_result"
    },
    {
     "data": {
      "text/plain": [
       "val intersect : 'a list -> 'a list -> 'a list = <fun>\n"
      ]
     },
     "execution_count": 44,
     "metadata": {},
     "output_type": "execute_result"
    }
   ],
   "source": [
    "let rec contains l v =\n",
    "    match l with \n",
    "    |[] -> false\n",
    "    |x::xs -> \n",
    "    if x = v then true else contains xs v\n",
    "    \n",
    "let rec intersect list1 list2 =\n",
    "    match list1 with\n",
    "    |[]->[]\n",
    "    |x::xs -> \n",
    "        if contains list2 x then x::intersect xs list2\n",
    "        else intersect xs list2"
   ]
  },
  {
   "cell_type": "code",
   "execution_count": 45,
   "metadata": {
    "deletable": false,
    "editable": false,
    "nbgrader": {
     "cell_type": "code",
     "checksum": "1c41900318651362e008cecb7d3e5102",
     "grade": true,
     "grade_id": "cell-ef69543741eed7c8",
     "locked": true,
     "points": 3,
     "schema_version": 3,
     "solution": false,
     "task": false
    }
   },
   "outputs": [
    {
     "data": {
      "text/plain": [
       "- : unit = ()\n"
      ]
     },
     "execution_count": 45,
     "metadata": {},
     "output_type": "execute_result"
    },
    {
     "data": {
      "text/plain": [
       "- : unit = ()\n"
      ]
     },
     "execution_count": 45,
     "metadata": {},
     "output_type": "execute_result"
    }
   ],
   "source": [
    "(* Tests of [intersect] *)\n",
    "\n",
    ";; assert (intersect [] [1; 2; 3] = [])\n",
    ";; assert (intersect [ 1 ] [ 1 ] = [ 1 ])"
   ]
  },
  {
   "cell_type": "markdown",
   "metadata": {
    "deletable": false,
    "editable": false,
    "nbgrader": {
     "cell_type": "markdown",
     "checksum": "667e2c8c4353c8f1ca99b38f223aa8aa",
     "grade": false,
     "grade_id": "cell-daae437ca3250ecb",
     "locked": true,
     "schema_version": 3,
     "solution": false,
     "task": false
    }
   },
   "source": [
    "\n",
    "Write an OCaml function `subtract` that given two lists satisfying the\n",
    "property of being a set, returns a list consisting of those elements of\n",
    "the first list that do not appear in the second list. Your subtract\n",
    "function must satisfy conditions (a)–(c) above.\n"
   ]
  },
  {
   "cell_type": "code",
   "execution_count": 52,
   "metadata": {
    "deletable": false,
    "nbgrader": {
     "cell_type": "code",
     "checksum": "6afd7443aa653938d05ae948dd998486",
     "grade": false,
     "grade_id": "cell-87ce26c16c1162b6",
     "locked": false,
     "schema_version": 3,
     "solution": true,
     "task": false
    }
   },
   "outputs": [
    {
     "data": {
      "text/plain": [
       "val subtract : 'a list -> 'a list -> 'a list = <fun>\n"
      ]
     },
     "execution_count": 52,
     "metadata": {},
     "output_type": "execute_result"
    }
   ],
   "source": [
    "let rec subtract list1 list2 =\n",
    "    match list1 with\n",
    "    |[]->[]\n",
    "    |x::xs -> \n",
    "        if contains list2 x then intersect xs list2\n",
    "        else x::intersect xs list2"
   ]
  },
  {
   "cell_type": "code",
   "execution_count": 53,
   "metadata": {
    "deletable": false,
    "editable": false,
    "nbgrader": {
     "cell_type": "code",
     "checksum": "0c9019305a5622d7fbe107f71370aa8e",
     "grade": true,
     "grade_id": "cell-8cc8048960bf3867",
     "locked": true,
     "points": 3,
     "schema_version": 3,
     "solution": false,
     "task": false
    }
   },
   "outputs": [
    {
     "data": {
      "text/plain": [
       "- : unit = ()\n"
      ]
     },
     "execution_count": 53,
     "metadata": {},
     "output_type": "execute_result"
    }
   ],
   "source": [
    "(* Tests of [subtract] *)\n",
    "\n",
    ";; assert (subtract [1] [1] = [])"
   ]
  },
  {
   "cell_type": "markdown",
   "metadata": {
    "deletable": false,
    "editable": false,
    "nbgrader": {
     "cell_type": "markdown",
     "checksum": "b173d7e244331890acffb7ae6da89d3f",
     "grade": false,
     "grade_id": "cell-715e122f0533b18e",
     "locked": true,
     "schema_version": 3,
     "solution": false,
     "task": false
    }
   },
   "source": [
    "\n",
    "\n",
    "Write an OCaml function `union` that given two lists satisfying the\n",
    "property of being a set, returns a list consisting of those elements that appear\n",
    "in one or other or both of the lists. Your union function must satisfy\n",
    "conditions (1)–(3) above and (4) below:\n",
    "      \n",
    "4. Elements from the first argument list appear before any others in the result.\n"
   ]
  },
  {
   "cell_type": "code",
   "execution_count": 55,
   "metadata": {
    "deletable": false,
    "nbgrader": {
     "cell_type": "code",
     "checksum": "866bd3e07dc756731ab8c15c8471e18e",
     "grade": false,
     "grade_id": "cell-ed6ba4fc1a28cc1a",
     "locked": false,
     "schema_version": 3,
     "solution": true,
     "task": false
    }
   },
   "outputs": [
    {
     "data": {
      "text/plain": [
       "val append : 'a list -> 'a list -> 'a list = <fun>\n"
      ]
     },
     "execution_count": 55,
     "metadata": {},
     "output_type": "execute_result"
    },
    {
     "data": {
      "text/plain": [
       "val union : 'a list -> 'a list -> 'a list = <fun>\n"
      ]
     },
     "execution_count": 55,
     "metadata": {},
     "output_type": "execute_result"
    }
   ],
   "source": [
    "let rec append list1 list2 =\n",
    "    match list1 with\n",
    "    |[] -> list2\n",
    "    |x::xs -> x::(append xs list2)\n",
    "\n",
    "let union list1 list2 =\n",
    "    append list1 (subtract list2 list1)"
   ]
  },
  {
   "cell_type": "code",
   "execution_count": 56,
   "metadata": {
    "deletable": false,
    "editable": false,
    "nbgrader": {
     "cell_type": "code",
     "checksum": "ff846c511da01d04d25bad3df7142c7c",
     "grade": true,
     "grade_id": "cell-0d73550a3caeb2a5",
     "locked": true,
     "points": 3,
     "schema_version": 3,
     "solution": false,
     "task": false
    }
   },
   "outputs": [
    {
     "data": {
      "text/plain": [
       "- : unit = ()\n"
      ]
     },
     "execution_count": 56,
     "metadata": {},
     "output_type": "execute_result"
    }
   ],
   "source": [
    "(* Tests of [union] *)\n",
    "\n",
    ";; assert (union [1] [2] = [1; 2])"
   ]
  },
  {
   "cell_type": "code",
   "execution_count": null,
   "metadata": {},
   "outputs": [],
   "source": []
  }
 ],
 "metadata": {
  "kernelspec": {
   "display_name": "OCaml default",
   "language": "OCaml",
   "name": "ocaml-jupyter"
  },
  "language_info": {
   "codemirror_mode": "text/x-ocaml",
   "file_extension": ".ml",
   "mimetype": "text/x-ocaml",
   "name": "OCaml",
   "nbconverter_exporter": null,
   "pygments_lexer": "OCaml",
   "version": "4.08.1"
  }
 },
 "nbformat": 4,
 "nbformat_minor": 2
}
