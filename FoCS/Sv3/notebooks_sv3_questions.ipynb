{
 "cells": [
  {
   "cell_type": "markdown",
   "metadata": {
    "deletable": false,
    "editable": false,
    "nbgrader": {
     "cell_type": "markdown",
     "checksum": "539090eaee5672b6eb7e9efc915e3273",
     "grade": false,
     "grade_id": "cell-55ba71babe490fc1",
     "locked": true,
     "schema_version": 3,
     "solution": false,
     "task": false
    }
   },
   "source": [
    "# Foundations of Computer Science (3 of 4)\n",
    "\n",
    "Fill in the various `TODO` items, then submit a copy of this notebook \n",
    "to Craig Ferguson (`me@craigfe.io`) at least 48 hours before the supervision. \n",
    "\n",
    "\n",
    "## A. Functional queues\n",
    "\n",
    "(_a_) Define a type `queue` that represents queues with arbitrary element type. (1 mark)"
   ]
  },
  {
   "cell_type": "code",
   "execution_count": 10,
   "metadata": {
    "deletable": false,
    "nbgrader": {
     "cell_type": "code",
     "checksum": "d012722592e117c9aedc1fd7d6b5b919",
     "grade": true,
     "grade_id": "cell-ecee44e526c730dc",
     "locked": false,
     "points": 1,
     "schema_version": 3,
     "solution": true,
     "task": false
    }
   },
   "outputs": [
    {
     "data": {
      "text/plain": [
       "type 'a queue = 'a list * 'a list\n"
      ]
     },
     "execution_count": 10,
     "metadata": {},
     "output_type": "execute_result"
    }
   ],
   "source": [
    "type 'a queue = ('a list) * ('a list)"
   ]
  },
  {
   "cell_type": "markdown",
   "metadata": {
    "deletable": false,
    "editable": false,
    "nbgrader": {
     "cell_type": "markdown",
     "checksum": "9e408e61934b44bc71f09cc03ea0e553",
     "grade": false,
     "grade_id": "cell-7289935dbcae4c92",
     "locked": true,
     "schema_version": 3,
     "solution": false,
     "task": false
    }
   },
   "source": [
    "  \n",
    "(_b_) Define functions `enqueue` and `dequeue` that add and remove elements from a\n",
    "   queue respectively. The functions should have amortized $O(1)$ time complexity.\n",
    "   State the amortized space complexity of your implementations. (2 marks each)\n",
    "                                                                "
   ]
  },
  {
   "cell_type": "code",
   "execution_count": 11,
   "metadata": {
    "deletable": false,
    "nbgrader": {
     "cell_type": "code",
     "checksum": "b705c7354b9d81362071d23d66629ff8",
     "grade": true,
     "grade_id": "cell-f81106caf631fcd9",
     "locked": false,
     "points": 3,
     "schema_version": 3,
     "solution": true,
     "task": false
    }
   },
   "outputs": [
    {
     "data": {
      "text/plain": [
       "exception Empty_queue\n"
      ]
     },
     "execution_count": 11,
     "metadata": {},
     "output_type": "execute_result"
    },
    {
     "data": {
      "text/plain": [
       "val norm : 'a list * 'a list -> 'a list * 'a list = <fun>\n"
      ]
     },
     "execution_count": 11,
     "metadata": {},
     "output_type": "execute_result"
    },
    {
     "data": {
      "text/plain": [
       "val enqueue : 'a list * 'a list -> 'a -> 'a list * 'a list = <fun>\n"
      ]
     },
     "execution_count": 11,
     "metadata": {},
     "output_type": "execute_result"
    },
    {
     "data": {
      "text/plain": [
       "val dequeue : 'a list * 'a list -> 'a list * 'a list = <fun>\n"
      ]
     },
     "execution_count": 11,
     "metadata": {},
     "output_type": "execute_result"
    },
    {
     "name": "stderr",
     "output_type": "stream",
     "text": [
      "File \"[11]\", line 15, characters 10-39:\n",
      "15 | ..........function\n",
      "16 |     |(v::tail, _)->v\n",
      "Warning 8: this pattern-matching is not exhaustive.\n",
      "Here is an example of a case that is not matched:\n",
      "([], _)\n"
     ]
    },
    {
     "data": {
      "text/plain": [
       "val qhd : 'a list * 'b -> 'a = <fun>\n"
      ]
     },
     "execution_count": 11,
     "metadata": {},
     "output_type": "execute_result"
    }
   ],
   "source": [
    "exception Empty_queue\n",
    "\n",
    "let norm = function\n",
    "    |([], back) -> (List.rev back, [])\n",
    "    |q -> q\n",
    "\n",
    "let enqueue q v=\n",
    "    match q with\n",
    "    |(front, back) -> norm (front, v::back)\n",
    "\n",
    "let dequeue = function\n",
    "    |(x::front, back) -> norm (front, back)\n",
    "    |_ -> raise Empty_queue\n",
    "    \n",
    "let qhd = function\n",
    "    |(v::tail, _)->v\n",
    "    "
   ]
  },
  {
   "cell_type": "markdown",
   "metadata": {
    "deletable": false,
    "nbgrader": {
     "cell_type": "markdown",
     "checksum": "f747aa47e3293ca2e810b7041cc83cca",
     "grade": true,
     "grade_id": "cell-56f527e129503014",
     "locked": false,
     "points": 1,
     "schema_version": 3,
     "solution": true,
     "task": false
    }
   },
   "source": [
    "Amortized space complexity: I'm not entirely sure. We input an n long list in each case to the function, but that is not on the stack. I think List.rev operates on the stack, but similarly to the time complexity, that is an amortized constant space."
   ]
  },
  {
   "cell_type": "markdown",
   "metadata": {
    "deletable": false,
    "editable": false,
    "nbgrader": {
     "cell_type": "markdown",
     "checksum": "3407f999c9f55dbf3d1a14021cdb3fe5",
     "grade": false,
     "grade_id": "cell-c5c3372ace1ddd44",
     "locked": true,
     "schema_version": 3,
     "solution": false,
     "task": false
    }
   },
   "source": [
    "## B. Sorting lists\n",
    "\n",
    "For each of the following sorting algorithms, give an implementation for OCaml lists. (4 marks each)\n",
    "\n",
    "These sorting functions should be parameterised by the comparator functions we used last time:"
   ]
  },
  {
   "cell_type": "code",
   "execution_count": 12,
   "metadata": {
    "deletable": false,
    "editable": false,
    "nbgrader": {
     "cell_type": "code",
     "checksum": "d568b79c8a870e11a71c4b37b8d9ed65",
     "grade": false,
     "grade_id": "cell-3e4a9d0be83f3ffb",
     "locked": true,
     "schema_version": 3,
     "solution": false,
     "task": false
    }
   },
   "outputs": [
    {
     "data": {
      "text/plain": [
       "type ordering = Less_than | Equal | Greater_than\n"
      ]
     },
     "execution_count": 12,
     "metadata": {},
     "output_type": "execute_result"
    },
    {
     "data": {
      "text/plain": [
       "type 'a comparator = 'a -> 'a -> ordering\n"
      ]
     },
     "execution_count": 12,
     "metadata": {},
     "output_type": "execute_result"
    }
   ],
   "source": [
    "type    ordering   = Less_than | Equal | Greater_than\n",
    "type 'a comparator = 'a -> 'a -> ordering"
   ]
  },
  {
   "cell_type": "markdown",
   "metadata": {
    "deletable": false,
    "editable": false,
    "nbgrader": {
     "cell_type": "markdown",
     "checksum": "1aa9dafc9a7e9177ac245bc4399767a3",
     "grade": false,
     "grade_id": "cell-4cfaf954889a1a22",
     "locked": true,
     "schema_version": 3,
     "solution": false,
     "task": false
    }
   },
   "source": [
    "**Merge sort** takes an unsorted list and repeatedly applies the step of merging adjacent sorted sub-components until the entire list is sorted.\n",
    "\n",
    "> ```ocaml\n",
    "> val merge_sort : 'a comparator -> 'a list -> 'a list\n",
    "> ```"
   ]
  },
  {
   "cell_type": "code",
   "execution_count": 13,
   "metadata": {
    "deletable": false,
    "nbgrader": {
     "cell_type": "code",
     "checksum": "b3c8db2b5b7443fad78560c54e78a22e",
     "grade": false,
     "grade_id": "cell-f7a194a2223d4662",
     "locked": false,
     "schema_version": 3,
     "solution": true,
     "task": false
    }
   },
   "outputs": [
    {
     "data": {
      "text/plain": [
       "val take_n : 'a list -> int -> 'a list = <fun>\n"
      ]
     },
     "execution_count": 13,
     "metadata": {},
     "output_type": "execute_result"
    },
    {
     "data": {
      "text/plain": [
       "val comb : ('a -> 'a -> ordering) -> 'a list -> 'a list -> 'a list = <fun>\n"
      ]
     },
     "execution_count": 13,
     "metadata": {},
     "output_type": "execute_result"
    },
    {
     "data": {
      "text/plain": [
       "val merge_sort : ('a -> 'a -> ordering) -> 'a list -> 'a list = <fun>\n"
      ]
     },
     "execution_count": 13,
     "metadata": {},
     "output_type": "execute_result"
    }
   ],
   "source": [
    "let rec take_n l n= \n",
    "    match n, l with\n",
    "    |(_,[]) -> []\n",
    "    |(0,_)->[]\n",
    "    |(_,x::xs) -> x::take_n xs (n-1)\n",
    "\n",
    "\n",
    "let rec comb c l1 l2 =\n",
    "        match (l1, l2) with\n",
    "        |([],_) -> l2\n",
    "        |(_,[]) -> l1\n",
    "        |(l1h::l1t, l2h::l2t) -> if c l1h l2h = Less_than then l1h::(comb c l1t l2) else l2h::(comb c l1 l2t)\n",
    "\n",
    "let rec merge_sort c l =\n",
    "    match l with\n",
    "    |[]->[]\n",
    "    |[x]->[x]\n",
    "    |x::xs->\n",
    "    let front = take_n l ((List.length l)/2) in\n",
    "    let back  = take_n (List.rev l) ((List.length l)/2 + ((List.length l) mod 2)) in\n",
    "    let ordered_front = merge_sort c front in\n",
    "    let ordered_back = merge_sort c back in\n",
    "    comb c ordered_front ordered_back"
   ]
  },
  {
   "cell_type": "code",
   "execution_count": 58,
   "metadata": {
    "deletable": false,
    "editable": false,
    "nbgrader": {
     "cell_type": "code",
     "checksum": "587d368c93dce2267549fb1d05ddf974",
     "grade": true,
     "grade_id": "cell-d08b389dc07de696",
     "locked": true,
     "points": 4,
     "schema_version": 3,
     "solution": false,
     "task": false
    }
   },
   "outputs": [
    {
     "ename": "error",
     "evalue": "compile_error",
     "output_type": "error",
     "traceback": [
      "File \"[58]\", line 1, characters 0-1:\n1 | <`TODO`: _answer_><`TODO`: _answer_><`TODO`: _answer_>(* Input / output test cases for merge sort *)\n    ^\nError: Syntax error\n"
     ]
    }
   ],
   "source": [
    "<`TODO`: _answer_><`TODO`: _answer_><`TODO`: _answer_>(* Input / output test cases for merge sort *)\n",
    "\n",
    "module Test_merge = struct\n",
    "  let int a b = match compare a b with\n",
    "    | n when n < 0 -> Less_than\n",
    "    | 0            -> Equal\n",
    "    | _            -> Greater_than\n",
    "\n",
    "  let ( => ) a b = merge_sort int a = b\n",
    "end\n",
    "\n",
    ";; let __ : 'a. 'a comparator -> 'a list -> 'a list = merge_sort in ()\n",
    ";; assert Test_merge.([]                 => [])\n",
    ";; assert Test_merge.([1]                => [1])\n",
    ";; assert Test_merge.([2; 1]             => [1; 2])\n",
    ";; assert Test_merge.([6; 1; 4; 4; 2; 3] => [1; 2; 3; 4; 4; 6])\n",
    ";; assert Test_merge.(\n",
    "       [ 16;  5;  6;  4; 12;  1; 15;  2;  9; 11;  6; 11; 15;  3;  9; 16;  8; 12;  6; 14; 20; 16; 18; 17;  4\n",
    "       ; 13; 19; 12;  4; 11; 17; 20; 16;  9; 20;  3; 11;  3;  2; 19; 18; 13;  6; 15;  2;  4; 20; 14;  2;  4 ]\n",
    "                        \n",
    "    => [  1;  2;  2;  2;  2;  3;  3;  3;  4;  4;  4;  4;  4;  5;  6;  6;  6;  6;  8;  9;  9;  9; 11; 11; 11\n",
    "       ; 11; 12; 12; 12; 13; 13; 14; 14; 15; 15; 15; 16; 16; 16; 16; 17; 17; 18; 18; 19; 19; 20; 20; 20; 20 ]\n",
    "   )"
   ]
  },
  {
   "cell_type": "code",
   "execution_count": 14,
   "metadata": {},
   "outputs": [
    {
     "data": {
      "text/plain": [
       "module Test_merge :\n",
       "  sig\n",
       "    val int : 'a -> 'a -> ordering\n",
       "    val ( => ) : 'a list -> 'a list -> bool\n",
       "  end\n"
      ]
     },
     "execution_count": 14,
     "metadata": {},
     "output_type": "execute_result"
    },
    {
     "data": {
      "text/plain": [
       "- : unit = ()\n"
      ]
     },
     "execution_count": 14,
     "metadata": {},
     "output_type": "execute_result"
    },
    {
     "data": {
      "text/plain": [
       "- : unit = ()\n"
      ]
     },
     "execution_count": 14,
     "metadata": {},
     "output_type": "execute_result"
    },
    {
     "data": {
      "text/plain": [
       "- : unit = ()\n"
      ]
     },
     "execution_count": 14,
     "metadata": {},
     "output_type": "execute_result"
    },
    {
     "data": {
      "text/plain": [
       "- : unit = ()\n"
      ]
     },
     "execution_count": 14,
     "metadata": {},
     "output_type": "execute_result"
    },
    {
     "data": {
      "text/plain": [
       "- : unit = ()\n"
      ]
     },
     "execution_count": 14,
     "metadata": {},
     "output_type": "execute_result"
    },
    {
     "data": {
      "text/plain": [
       "- : unit = ()\n"
      ]
     },
     "execution_count": 14,
     "metadata": {},
     "output_type": "execute_result"
    }
   ],
   "source": [
    "(* Input / output test cases for merge sort *)\n",
    "\n",
    "module Test_merge = struct\n",
    "  let int a b = match compare a b with\n",
    "    | n when n < 0 -> Less_than\n",
    "    | 0            -> Equal\n",
    "    | _            -> Greater_than\n",
    "\n",
    "  let ( => ) a b = merge_sort int a = b\n",
    "end\n",
    "\n",
    ";; let __ : 'a. 'a comparator -> 'a list -> 'a list = merge_sort in ()\n",
    ";; assert Test_merge.([]                 => [])\n",
    ";; assert Test_merge.([1]                => [1])\n",
    ";; assert Test_merge.([2; 1]             => [1; 2])\n",
    ";; assert Test_merge.([6; 1; 4; 4; 2; 3] => [1; 2; 3; 4; 4; 6])\n",
    ";; assert Test_merge.(\n",
    "       [ 16;  5;  6;  4; 12;  1; 15;  2;  9; 11;  6; 11; 15;  3;  9; 16;  8; 12;  6; 14; 20; 16; 18; 17;  4\n",
    "       ; 13; 19; 12;  4; 11; 17; 20; 16;  9; 20;  3; 11;  3;  2; 19; 18; 13;  6; 15;  2;  4; 20; 14;  2;  4 ]\n",
    "                        \n",
    "    => [  1;  2;  2;  2;  2;  3;  3;  3;  4;  4;  4;  4;  4;  5;  6;  6;  6;  6;  8;  9;  9;  9; 11; 11; 11\n",
    "       ; 11; 12; 12; 12; 13; 13; 14; 14; 15; 15; 15; 16; 16; 16; 16; 17; 17; 18; 18; 19; 19; 20; 20; 20; 20 ]\n",
    "   )"
   ]
  },
  {
   "cell_type": "markdown",
   "metadata": {
    "deletable": false,
    "editable": false,
    "nbgrader": {
     "cell_type": "markdown",
     "checksum": "366b85fc2ab4153439a1c8e1552121a2",
     "grade": false,
     "grade_id": "cell-643de6b0b918853d",
     "locked": true,
     "schema_version": 3,
     "solution": false,
     "task": false
    }
   },
   "source": [
    "**Quick sort** repeatedly performs 'passes' consisting of selecting a pivot element $p$, partitioning the remaining elements according to their ordering relative to $p$, then sorting each resulting sub-list as a sub-problem.\n",
    "\n",
    "\n",
    "> ```ocaml\n",
    "> val quick_sort : 'a comparator -> 'a list -> 'a list\n",
    "> ```"
   ]
  },
  {
   "cell_type": "code",
   "execution_count": 15,
   "metadata": {
    "deletable": false,
    "nbgrader": {
     "cell_type": "code",
     "checksum": "96fbd7921c4bab556a121090c2d399c5",
     "grade": false,
     "grade_id": "cell-2f7cbe5b929b4e70",
     "locked": false,
     "schema_version": 3,
     "solution": true,
     "task": false
    }
   },
   "outputs": [
    {
     "data": {
      "text/plain": [
       "val quick_sort_imp : ('a -> 'a -> ordering) -> 'a list -> 'a list -> 'a list =\n",
       "  <fun>\n"
      ]
     },
     "execution_count": 15,
     "metadata": {},
     "output_type": "execute_result"
    },
    {
     "data": {
      "text/plain": [
       "val quick_sort : ('a -> 'a -> ordering) -> 'a list -> 'a list = <fun>\n"
      ]
     },
     "execution_count": 15,
     "metadata": {},
     "output_type": "execute_result"
    }
   ],
   "source": [
    "let rec quick_sort_imp c l appendTo=\n",
    "    match l with\n",
    "    |[]-> appendTo\n",
    "    |[x]-> x::appendTo\n",
    "    |x::xs->\n",
    "    let smaller = List.filter (fun y -> (<>) Less_than (c x y)) xs in\n",
    "    let greater = List.filter (fun y -> (=) Less_than (c x y)) xs in\n",
    "    let ordered_greater = x::(quick_sort_imp c greater appendTo) in   \n",
    "    quick_sort_imp c smaller ordered_greater\n",
    "\n",
    "let rec quick_sort c l = quick_sort_imp c l []"
   ]
  },
  {
   "cell_type": "code",
   "execution_count": 16,
   "metadata": {
    "deletable": false,
    "editable": false,
    "nbgrader": {
     "cell_type": "code",
     "checksum": "0cdab4256a74696e513899a0fb75b5d5",
     "grade": true,
     "grade_id": "cell-a29d38ca059435da",
     "locked": true,
     "points": 4,
     "schema_version": 3,
     "solution": false,
     "task": false
    }
   },
   "outputs": [
    {
     "data": {
      "text/plain": [
       "module Test_quick : sig val ( => ) : 'a list -> 'a list -> bool end\n"
      ]
     },
     "execution_count": 16,
     "metadata": {},
     "output_type": "execute_result"
    },
    {
     "data": {
      "text/plain": [
       "- : unit = ()\n"
      ]
     },
     "execution_count": 16,
     "metadata": {},
     "output_type": "execute_result"
    },
    {
     "data": {
      "text/plain": [
       "- : unit = ()\n"
      ]
     },
     "execution_count": 16,
     "metadata": {},
     "output_type": "execute_result"
    },
    {
     "data": {
      "text/plain": [
       "- : unit = ()\n"
      ]
     },
     "execution_count": 16,
     "metadata": {},
     "output_type": "execute_result"
    },
    {
     "data": {
      "text/plain": [
       "- : unit = ()\n"
      ]
     },
     "execution_count": 16,
     "metadata": {},
     "output_type": "execute_result"
    },
    {
     "data": {
      "text/plain": [
       "- : unit = ()\n"
      ]
     },
     "execution_count": 16,
     "metadata": {},
     "output_type": "execute_result"
    },
    {
     "data": {
      "text/plain": [
       "- : unit = ()\n"
      ]
     },
     "execution_count": 16,
     "metadata": {},
     "output_type": "execute_result"
    }
   ],
   "source": [
    "(* Input / output test cases for quick sort *)\n",
    "\n",
    "module Test_quick = struct\n",
    "  let ( => ) a b = quick_sort Test_merge.int a = b\n",
    "end\n",
    "\n",
    ";; let __ : 'a. 'a comparator -> 'a list -> 'a list = quick_sort in ()\n",
    ";; assert Test_quick.([]                 => [])\n",
    ";; assert Test_quick.([1]                => [1])\n",
    ";; assert Test_quick.([2; 1]             => [1; 2])\n",
    ";; assert Test_quick.([6; 1; 4; 4; 2; 3] => [1; 2; 3; 4; 4; 6])\n",
    ";; assert Test_quick.(\n",
    "       [ 16;  5;  6;  4; 12;  1; 15;  2;  9; 11;  6; 11; 15;  3;  9; 16;  8; 12;  6; 14; 20; 16; 18; 17;  4\n",
    "       ; 13; 19; 12;  4; 11; 17; 20; 16;  9; 20;  3; 11;  3;  2; 19; 18; 13;  6; 15;  2;  4; 20; 14;  2;  4 ]\n",
    "        \n",
    "    => [  1;  2;  2;  2;  2;  3;  3;  3;  4;  4;  4;  4;  4;  5;  6;  6;  6;  6;  8;  9;  9;  9; 11; 11; 11\n",
    "       ; 11; 12; 12; 12; 13; 13; 14; 14; 15; 15; 15; 16; 16; 16; 16; 17; 17; 18; 18; 19; 19; 20; 20; 20; 20 ]\n",
    "   )"
   ]
  },
  {
   "cell_type": "markdown",
   "metadata": {
    "deletable": false,
    "editable": false,
    "nbgrader": {
     "cell_type": "markdown",
     "checksum": "9f0955f6cf771855d47ef96101650a91",
     "grade": false,
     "grade_id": "cell-7fee4ffd431c4d04",
     "locked": true,
     "schema_version": 3,
     "solution": false,
     "task": false
    }
   },
   "source": [
    "## C. Functional arrays\n",
    "\n",
    "This question concerns _'functional arrays'_ (Braun trees) as defined in the lecture notes. The following type represents a functional array:"
   ]
  },
  {
   "cell_type": "code",
   "execution_count": 17,
   "metadata": {
    "deletable": false,
    "editable": false,
    "nbgrader": {
     "cell_type": "code",
     "checksum": "e08500e074b4a0f6e8b1c7fcba428a48",
     "grade": false,
     "grade_id": "cell-da0a9f9fbba8ea5c",
     "locked": true,
     "schema_version": 3,
     "solution": false,
     "task": false
    }
   },
   "outputs": [
    {
     "ename": "error",
     "evalue": "compile_error",
     "output_type": "error",
     "traceback": [
      "File \"[17]\", line 1, characters 0-1:\n1 | <`TODO`: _answer_>type 'a braun_tree = Elt of 'a * 'a braun_tree * 'a braun_tree | Void\n    ^\nError: Syntax error\n"
     ]
    }
   ],
   "source": [
    "<`TODO`: _answer_>type 'a braun_tree = Elt of 'a * 'a braun_tree * 'a braun_tree | Void"
   ]
  },
  {
   "cell_type": "code",
   "execution_count": 18,
   "metadata": {},
   "outputs": [
    {
     "data": {
      "text/plain": [
       "type 'a braun_tree = Elt of 'a * 'a braun_tree * 'a braun_tree | Void\n"
      ]
     },
     "execution_count": 18,
     "metadata": {},
     "output_type": "execute_result"
    }
   ],
   "source": [
    "type 'a braun_tree = Elt of 'a * 'a braun_tree * 'a braun_tree | Void"
   ]
  },
  {
   "cell_type": "markdown",
   "metadata": {
    "deletable": false,
    "editable": false,
    "nbgrader": {
     "cell_type": "markdown",
     "checksum": "ed739fea4b17f505d51e49e12a3e7f6f",
     "grade": false,
     "grade_id": "cell-b5e4f2fb428e0d9f",
     "locked": true,
     "schema_version": 3,
     "solution": false,
     "task": false
    }
   },
   "source": [
    "where `Void` denotes the empty functional array $[]$ and `Elt (v, l, r)` denotes the functional array $[v; x_0; ...; x_{2n \\pm 1}]$, such that:\n",
    " - `l` denotes the functional array $[x_0; x_2; x_4; ...; x_{2n}]$;\n",
    " - `r` denotes the functional array $[x_1; x_3; x_5; ...; x_{2n \\pm 1}]$.\n",
    "\n",
    "<hr/>\n",
    " \n",
    "Write a function `init : int -> (int -> 'a) -> 'a braun_tree` such that:\n",
    "\n",
    "> `init` $n\\ f = [f\\ 0;\\ f\\ 1;\\ ...;\\ f\\ (n-1)]$,\n",
    "\n",
    "given that $n$ is non-negative. (5 marks)\n"
   ]
  },
  {
   "cell_type": "code",
   "execution_count": 19,
   "metadata": {
    "deletable": false,
    "nbgrader": {
     "cell_type": "code",
     "checksum": "4137dc40fc62679a5eedd8abe4da81fb",
     "grade": false,
     "grade_id": "cell-1f17bb61ea0435da",
     "locked": false,
     "schema_version": 3,
     "solution": true,
     "task": false
    }
   },
   "outputs": [
    {
     "data": {
      "text/plain": [
       "val build : int -> int -> int -> (int -> 'a) -> 'a braun_tree = <fun>\n"
      ]
     },
     "execution_count": 19,
     "metadata": {},
     "output_type": "execute_result"
    },
    {
     "data": {
      "text/plain": [
       "val init : int -> (int -> '_weak1) -> '_weak1 braun_tree = <fun>\n"
      ]
     },
     "execution_count": 19,
     "metadata": {},
     "output_type": "execute_result"
    },
    {
     "data": {
      "text/plain": [
       "val init : int -> (int -> 'a) -> 'a braun_tree = <fun>\n"
      ]
     },
     "execution_count": 19,
     "metadata": {},
     "output_type": "execute_result"
    }
   ],
   "source": [
    "let rec build i l n f= \n",
    "    if i>n then Void else\n",
    "    let left = build (i+l) (2*l) n f in\n",
    "    let right= build (i+2*l) (2*l) n f in\n",
    "    Elt(f (i-1), left, right)\n",
    "    \n",
    "let init = build 1 1\n",
    "(*Why does this not work? *)\n",
    "\n",
    "let init n f = build 1 1 n f"
   ]
  },
  {
   "cell_type": "code",
   "execution_count": 20,
   "metadata": {
    "deletable": false,
    "editable": false,
    "nbgrader": {
     "cell_type": "code",
     "checksum": "12d17fcb6139698ef94515c937c7d812",
     "grade": true,
     "grade_id": "cell-1bd19a72b5b418ad",
     "locked": true,
     "points": 5,
     "schema_version": 3,
     "solution": false,
     "task": false
    }
   },
   "outputs": [
    {
     "data": {
      "text/plain": [
       "- : unit = ()\n"
      ]
     },
     "execution_count": 20,
     "metadata": {},
     "output_type": "execute_result"
    },
    {
     "data": {
      "text/plain": [
       "- : unit = ()\n"
      ]
     },
     "execution_count": 20,
     "metadata": {},
     "output_type": "execute_result"
    },
    {
     "data": {
      "text/plain": [
       "- : unit = ()\n"
      ]
     },
     "execution_count": 20,
     "metadata": {},
     "output_type": "execute_result"
    },
    {
     "data": {
      "text/plain": [
       "- : unit = ()\n"
      ]
     },
     "execution_count": 20,
     "metadata": {},
     "output_type": "execute_result"
    },
    {
     "data": {
      "text/plain": [
       "- : unit = ()\n"
      ]
     },
     "execution_count": 20,
     "metadata": {},
     "output_type": "execute_result"
    },
    {
     "data": {
      "text/plain": [
       "- : unit = ()\n"
      ]
     },
     "execution_count": 20,
     "metadata": {},
     "output_type": "execute_result"
    },
    {
     "data": {
      "text/plain": [
       "- : unit = ()\n"
      ]
     },
     "execution_count": 20,
     "metadata": {},
     "output_type": "execute_result"
    }
   ],
   "source": [
    ";; let __ : 'a. int -> (int -> 'a) -> 'a braun_tree = init in ()\n",
    ";; assert (init 0 Fun.id = Void)\n",
    ";; assert (init 1 Fun.id = Elt (0, Void, Void))\n",
    ";; assert (init 2 Fun.id = Elt (0, Elt (1, Void, Void), Void))\n",
    ";; assert (init 3 Fun.id = Elt (0, Elt (1, Void, Void), Elt (2, Void, Void)))\n",
    ";; assert (init 4 Fun.id = Elt (0, Elt (1, Elt (3, Void, Void), Void), Elt (2, Void, Void)))\n",
    ";; assert (init 5 Fun.id = Elt (0, Elt (1, Elt (3, Void, Void), Void), Elt (2, Elt (4, Void, Void), Void)))"
   ]
  },
  {
   "cell_type": "markdown",
   "metadata": {
    "deletable": false,
    "editable": false,
    "nbgrader": {
     "cell_type": "markdown",
     "checksum": "9c085b749056425e93519474130ce351",
     "grade": false,
     "grade_id": "cell-c72810e1fc9344ab",
     "locked": true,
     "schema_version": 3,
     "solution": false,
     "task": false
    }
   },
   "source": [
    "Write a function `pop : 'a braun_tree -> 'a braun_tree` such that:\n",
    "\n",
    "> `pop` $[] = []$\n",
    ">\n",
    "> `pop` $[x_0; ...; x_n] = [x_1; ...; x_n]$\n",
    "\n",
    "(5 marks)"
   ]
  },
  {
   "cell_type": "code",
   "execution_count": 21,
   "metadata": {
    "deletable": false,
    "nbgrader": {
     "cell_type": "code",
     "checksum": "ffd7fc313371601b3b8400c43b75f149",
     "grade": false,
     "grade_id": "cell-6db226171d261ded",
     "locked": false,
     "schema_version": 3,
     "solution": true,
     "task": false
    }
   },
   "outputs": [
    {
     "name": "stderr",
     "output_type": "stream",
     "text": [
      "File \"[21]\", line 5, characters 4-60:\n",
      "5 |     match left with |Elt(w, _, _) -> Elt(w, right, pop left)\n",
      "        ^^^^^^^^^^^^^^^^^^^^^^^^^^^^^^^^^^^^^^^^^^^^^^^^^^^^^^^^\n",
      "Warning 8: this pattern-matching is not exhaustive.\n",
      "Here is an example of a case that is not matched:\n",
      "Void\n"
     ]
    },
    {
     "data": {
      "text/plain": [
       "val pop : 'a braun_tree -> 'a braun_tree = <fun>\n"
      ]
     },
     "execution_count": 21,
     "metadata": {},
     "output_type": "execute_result"
    }
   ],
   "source": [
    "let rec pop = function\n",
    "    |Void -> Void\n",
    "    |Elt(v, Void, _) -> Void\n",
    "    |Elt(v, left, right) ->\n",
    "    match left with |Elt(w, _, _) -> Elt(w, right, pop left)"
   ]
  },
  {
   "cell_type": "code",
   "execution_count": 22,
   "metadata": {
    "deletable": false,
    "editable": false,
    "nbgrader": {
     "cell_type": "code",
     "checksum": "9a73492e3b6ecb82dd899c5722118cbc",
     "grade": true,
     "grade_id": "cell-7df5c9b67a4d5dc0",
     "locked": true,
     "points": 5,
     "schema_version": 3,
     "solution": false,
     "task": false
    }
   },
   "outputs": [
    {
     "data": {
      "text/plain": [
       "- : unit = ()\n"
      ]
     },
     "execution_count": 22,
     "metadata": {},
     "output_type": "execute_result"
    },
    {
     "data": {
      "text/plain": [
       "- : unit = ()\n"
      ]
     },
     "execution_count": 22,
     "metadata": {},
     "output_type": "execute_result"
    },
    {
     "data": {
      "text/plain": [
       "- : unit = ()\n"
      ]
     },
     "execution_count": 22,
     "metadata": {},
     "output_type": "execute_result"
    },
    {
     "data": {
      "text/plain": [
       "- : unit = ()\n"
      ]
     },
     "execution_count": 22,
     "metadata": {},
     "output_type": "execute_result"
    },
    {
     "data": {
      "text/plain": [
       "- : unit = ()\n"
      ]
     },
     "execution_count": 22,
     "metadata": {},
     "output_type": "execute_result"
    },
    {
     "data": {
      "text/plain": [
       "- : unit = ()\n"
      ]
     },
     "execution_count": 22,
     "metadata": {},
     "output_type": "execute_result"
    }
   ],
   "source": [
    ";; assert (pop Void = Void)\n",
    ";; assert (pop (Elt (0, Void, Void)) = Void)\n",
    "\n",
    ";; assert (pop (Elt (0, Elt (1, Void, Void), Void))\n",
    "              = Elt (1, Void, Void))\n",
    "\n",
    ";; assert (pop (Elt (0, Elt (1, Void, Void), Elt (2, Void, Void))) \n",
    "              = Elt (1, Elt (2, Void, Void), Void))\n",
    "\n",
    ";; assert (pop (Elt (0, Elt (1, Elt (3, Void, Void), Void), Elt (2, Void, Void))) \n",
    "              = Elt (1, Elt (2, Void, Void),                Elt (3, Void, Void)))\n",
    "              \n",
    ";; assert (pop (Elt (0, Elt (1, Elt (3, Void, Void), Void), Elt (2, Elt (4, Void, Void), Void))) \n",
    "              = Elt (1, Elt (2, Elt (4, Void, Void), Void), Elt (3, Void, Void)))"
   ]
  },
  {
   "cell_type": "markdown",
   "metadata": {
    "deletable": false,
    "editable": false,
    "nbgrader": {
     "cell_type": "markdown",
     "checksum": "7d1fe49634bb2cbcb3a2a59f1371077f",
     "grade": false,
     "grade_id": "cell-846fd1120b16d4bb",
     "locked": true,
     "schema_version": 3,
     "solution": false,
     "task": false
    }
   },
   "source": [
    "## D. Lazy data structurees\n",
    "\n",
    "The remainder of the supervision work will concern the following three lazy data\n",
    "structures. Note that each one may be used to encode a data structure of\n",
    "infinite size.\n"
   ]
  },
  {
   "cell_type": "code",
   "execution_count": 23,
   "metadata": {
    "deletable": false,
    "editable": false,
    "nbgrader": {
     "cell_type": "code",
     "checksum": "5281562dec21ebe3958b3115b5d7caa9",
     "grade": false,
     "grade_id": "cell-f5921d24c021229c",
     "locked": true,
     "schema_version": 3,
     "solution": false,
     "task": false
    }
   },
   "outputs": [
    {
     "data": {
      "text/plain": [
       "type 'a lazy_list = Cons of 'a * (unit -> 'a lazy_list) | Nil\n"
      ]
     },
     "execution_count": 23,
     "metadata": {},
     "output_type": "execute_result"
    },
    {
     "data": {
      "text/plain": [
       "type 'a lazy_tree =\n",
       "    Branch of 'a * (unit -> 'a lazy_tree) * (unit -> 'a lazy_tree)\n"
      ]
     },
     "execution_count": 23,
     "metadata": {},
     "output_type": "execute_result"
    },
    {
     "data": {
      "text/plain": [
       "type 'a lazy_graph = Vertex of 'a * (unit -> 'a lazy_graph) list\n"
      ]
     },
     "execution_count": 23,
     "metadata": {},
     "output_type": "execute_result"
    }
   ],
   "source": [
    "type 'a lazy_list  = Cons   of 'a * (unit -> 'a lazy_list) | Nil\n",
    "type 'a lazy_tree  = Branch of 'a * (unit -> 'a lazy_tree) * (unit -> 'a lazy_tree)\n",
    "type 'a lazy_graph = Vertex of 'a * (unit -> 'a lazy_graph) list"
   ]
  },
  {
   "cell_type": "markdown",
   "metadata": {
    "deletable": false,
    "editable": false,
    "nbgrader": {
     "cell_type": "markdown",
     "checksum": "d1480a8f5051b8464d2cd510c0bb972c",
     "grade": false,
     "grade_id": "cell-c96e74ceb19a54c1",
     "locked": true,
     "schema_version": 3,
     "solution": false,
     "task": false
    }
   },
   "source": [
    "\n",
    "Write a function,\n",
    "\n",
    "> ```ocaml\n",
    "> val ndeep : int -> 'a lazy_tree -> 'a lazy_list\n",
    "> ```\n",
    "\n",
    "such that '`ndeep` $n\\ t$' is a lazy list of all the $2^n$ values at\n",
    "depth exactly $n$ in the tree (from left-to-right). (10 marks)\n"
   ]
  },
  {
   "cell_type": "code",
   "execution_count": 24,
   "metadata": {
    "deletable": false,
    "nbgrader": {
     "cell_type": "code",
     "checksum": "e90bb670a82cfcfb367159fc9086d9eb",
     "grade": false,
     "grade_id": "cell-e7756b6cc180b5c6",
     "locked": false,
     "schema_version": 3,
     "solution": true,
     "task": false
    }
   },
   "outputs": [
    {
     "data": {
      "text/plain": [
       "val traverse : 'a lazy_list -> int -> 'a lazy_tree -> 'a lazy_list = <fun>\n"
      ]
     },
     "execution_count": 24,
     "metadata": {},
     "output_type": "execute_result"
    },
    {
     "data": {
      "text/plain": [
       "val ndeep : int -> 'a lazy_tree -> 'a lazy_list = <fun>\n"
      ]
     },
     "execution_count": 24,
     "metadata": {},
     "output_type": "execute_result"
    }
   ],
   "source": [
    "let rec traverse appendix n t =\n",
    "    match (n, t) with\n",
    "    |(0, Branch(v, _, _)) -> Cons(v, fun ()->appendix)\n",
    "    |(n, Branch(_, left, right))->\n",
    "    let rightlist = traverse appendix (n-1) (right ()) in\n",
    "    traverse rightlist (n-1) (left ())\n",
    "\n",
    "let ndeep n t = traverse Nil n t"
   ]
  },
  {
   "cell_type": "code",
   "execution_count": 25,
   "metadata": {
    "deletable": false,
    "editable": false,
    "nbgrader": {
     "cell_type": "code",
     "checksum": "e83bb6b390c2b4bd75702e8706eed242",
     "grade": true,
     "grade_id": "cell-e2ca3b69f052de75",
     "locked": true,
     "points": 10,
     "schema_version": 3,
     "solution": false,
     "task": false
    }
   },
   "outputs": [
    {
     "data": {
      "text/plain": [
       "module Test_tree :\n",
       "  sig\n",
       "    val seq : int -> int lazy_tree\n",
       "    val force_list : 'a lazy_list -> 'a list\n",
       "  end\n"
      ]
     },
     "execution_count": 25,
     "metadata": {},
     "output_type": "execute_result"
    },
    {
     "data": {
      "text/plain": [
       "- : unit = ()\n"
      ]
     },
     "execution_count": 25,
     "metadata": {},
     "output_type": "execute_result"
    },
    {
     "data": {
      "text/plain": [
       "- : unit = ()\n"
      ]
     },
     "execution_count": 25,
     "metadata": {},
     "output_type": "execute_result"
    }
   ],
   "source": [
    "module Test_tree = struct\n",
    "  let rec seq n = \n",
    "    let next () = seq (n + 1) in\n",
    "    Branch (n, next, next)\n",
    "    \n",
    "  let rec force_list = function\n",
    "    | Nil -> []\n",
    "    | Cons (x, xf) -> x :: force_list (xf ())\n",
    "end\n",
    "\n",
    ";; let __ : 'a. int -> 'a lazy_tree -> 'a lazy_list = ndeep in ()\n",
    ";; assert Test_tree.(force_list (ndeep 3 (seq 0)) = [3; 3; 3; 3; 3; 3; 3; 3])\n"
   ]
  },
  {
   "cell_type": "markdown",
   "metadata": {
    "deletable": false,
    "editable": false,
    "nbgrader": {
     "cell_type": "markdown",
     "checksum": "8f9b3f10b263906a05140da6196dedf5",
     "grade": false,
     "grade_id": "cell-07562606813c3e78",
     "locked": true,
     "schema_version": 3,
     "solution": false,
     "task": false
    }
   },
   "source": [
    "You are given an `int lazy_tree` and told that it contains arbitrarily large values at least somewhere in it. You want to find a value from it that is bigger than a given integer $n$ (but if there are many such values it does not matter which is returned). Note that because the tree is infinite, you cannot use simple depth-first search in order to visit all nodes in the tree. Present and explain code that searches the lazy tree. (8 marks)\n",
    "\n",
    "\n",
    "> ```ocaml\n",
    "> val find_greater_than : int -> int lazy_tree -> int\n",
    "> ```"
   ]
  },
  {
   "cell_type": "code",
   "execution_count": 26,
   "metadata": {
    "deletable": false,
    "nbgrader": {
     "cell_type": "code",
     "checksum": "5c076628e31dbb02440a8aacaf27c61a",
     "grade": false,
     "grade_id": "cell-75b100ae624e2bd4",
     "locked": false,
     "schema_version": 3,
     "solution": true,
     "task": false
    }
   },
   "outputs": [
    {
     "data": {
      "text/plain": [
       "val level : 'a lazy_tree list -> 'a lazy_list = <fun>\n"
      ]
     },
     "execution_count": 26,
     "metadata": {},
     "output_type": "execute_result"
    },
    {
     "name": "stderr",
     "output_type": "stream",
     "text": [
      "File \"[26]\", line 12, characters 8-76:\n",
      "12 | ........match p with\n",
      "13 |         |Cons(v, t)->if v > i then v else search (t ())\n",
      "Warning 8: this pattern-matching is not exhaustive.\n",
      "Here is an example of a case that is not matched:\n",
      "Nil\n"
     ]
    },
    {
     "data": {
      "text/plain": [
       "val find_greater_than : 'a -> 'a lazy_tree -> 'a = <fun>\n"
      ]
     },
     "execution_count": 26,
     "metadata": {},
     "output_type": "execute_result"
    }
   ],
   "source": [
    "let rec level levelList =\n",
    "    let rec iterate this nextLevel = \n",
    "        match this with\n",
    "        |[]->level nextLevel\n",
    "        |Branch(v, t1, t2)::xs-> Cons(v, fun ()->(iterate xs ((t1 ())::(t2 ())::nextLevel)))\n",
    "    in\n",
    "    iterate levelList []\n",
    "    \n",
    "let find_greater_than i t = \n",
    "    let lazyList = level [t] in\n",
    "    let rec search p =\n",
    "        match p with\n",
    "        |Cons(v, t)->if v > i then v else search (t ())\n",
    "    in\n",
    "    search lazyList"
   ]
  },
  {
   "cell_type": "code",
   "execution_count": 27,
   "metadata": {
    "deletable": false,
    "editable": false,
    "nbgrader": {
     "cell_type": "code",
     "checksum": "2ce2d53d88dc9b5128acf5f2cf5d4ee8",
     "grade": true,
     "grade_id": "cell-3d94a967421f732b",
     "locked": true,
     "points": 8,
     "schema_version": 3,
     "solution": false,
     "task": false
    }
   },
   "outputs": [
    {
     "data": {
      "text/plain": [
       "- : unit = ()\n"
      ]
     },
     "execution_count": 27,
     "metadata": {},
     "output_type": "execute_result"
    }
   ],
   "source": [
    ";; assert (find_greater_than 7 (Test_tree.seq 0) = 8)"
   ]
  },
  {
   "cell_type": "markdown",
   "metadata": {
    "deletable": false,
    "editable": false,
    "nbgrader": {
     "cell_type": "markdown",
     "checksum": "4d26ca8ee1fcdc9739f07f259d529492",
     "grade": false,
     "grade_id": "cell-0e866c2cacc14c7d",
     "locked": true,
     "schema_version": 3,
     "solution": false,
     "task": false
    }
   },
   "source": [
    "Write a function `traverse` that takes a lazy graph $g$ and returns a lazy list $l$ that contains all of the elements in $g$.\n",
    "\n",
    "> ```ocaml\n",
    "> val traverse : 'a lazy_graph -> 'a lazy_list\n",
    "> ```"
   ]
  },
  {
   "cell_type": "code",
   "execution_count": null,
   "metadata": {
    "deletable": false,
    "nbgrader": {
     "cell_type": "code",
     "checksum": "92bd207089022047a22cc286c6408d25",
     "grade": false,
     "grade_id": "cell-712beb2b097a95e5",
     "locked": false,
     "schema_version": 3,
     "solution": true,
     "task": false
    }
   },
   "outputs": [],
   "source": [
    "failwith \"TODO: solution\""
   ]
  },
  {
   "cell_type": "code",
   "execution_count": null,
   "metadata": {
    "deletable": false,
    "editable": false,
    "nbgrader": {
     "cell_type": "code",
     "checksum": "5e618b3ef46fbc223c0c3ea2cb635e79",
     "grade": true,
     "grade_id": "cell-e9f27332003e654b",
     "locked": true,
     "points": 0,
     "schema_version": 3,
     "solution": false,
     "task": false
    }
   },
   "outputs": [],
   "source": [
    ";; let __ : 'a. 'a lazy_graph -> 'a lazy_list = traverse in ()"
   ]
  },
  {
   "cell_type": "markdown",
   "metadata": {
    "deletable": false,
    "editable": false,
    "nbgrader": {
     "cell_type": "markdown",
     "checksum": "0a7e410feebf3c8cb67d36b1ddc209fa",
     "grade": false,
     "grade_id": "cell-9ed066d13f8d88cc",
     "locked": true,
     "schema_version": 3,
     "solution": false,
     "task": false
    }
   },
   "source": [
    "###  Extension: lazy matrices (_non-compulsory_)\n",
    "\n",
    "Write a function `diag` that takes an _infinite_ lazy list of _infinite_ lazy lists (a lazy matrix),\n",
    "\n",
    "> ```\n",
    "> [[ z_11; z_12; z_13; ... ];\n",
    ">  [ z_21; z_22; z_23; ... ];\n",
    ">  [ z_31; z_32; z_33; ... ]; ...]\n",
    "> ```\n",
    "\n",
    "and returns the diagonal: the infinite lazy list `[ z_11; z_22; z_33; ... ]`. (3 marks)"
   ]
  },
  {
   "cell_type": "code",
   "execution_count": null,
   "metadata": {
    "deletable": false,
    "nbgrader": {
     "cell_type": "code",
     "checksum": "3886f833263ffff94d1cb53fd8e29372",
     "grade": true,
     "grade_id": "cell-1b3d3404d35c2b7a",
     "locked": false,
     "points": 3,
     "schema_version": 3,
     "solution": true,
     "task": false
    }
   },
   "outputs": [],
   "source": [
    "failwith \"TODO: solution\""
   ]
  },
  {
   "cell_type": "markdown",
   "metadata": {
    "deletable": false,
    "editable": false,
    "nbgrader": {
     "cell_type": "markdown",
     "checksum": "01e334bbb43f71b572c9d6bc8766e180",
     "grade": false,
     "grade_id": "cell-363ae3c2e93f2661",
     "locked": true,
     "schema_version": 3,
     "solution": false,
     "task": false
    }
   },
   "source": [
    "Write a function `cross_init` that takes two infinite lazy lists $[ x_1; x_2; ...]$ and $[ y_1; y_2; ... ]$ and a function $f$ of two arguments; it should return a lazy matrix as above, with $z_{ij} = f\\ x_i\\ y_j$. (3 marks)\n",
    "\n",
    "> ```ocaml\n",
    "> val cross_init : 'a lazy_list -> 'b lazy_list -> ('a -> 'b -> 'c) -> 'c lazy_list\n",
    "> ```"
   ]
  },
  {
   "cell_type": "code",
   "execution_count": null,
   "metadata": {
    "deletable": false,
    "nbgrader": {
     "cell_type": "code",
     "checksum": "db41c52c8bb356e41b350050f53aef99",
     "grade": true,
     "grade_id": "cell-4242bd5eda7cfa2b",
     "locked": false,
     "points": 3,
     "schema_version": 3,
     "solution": true,
     "task": false
    }
   },
   "outputs": [],
   "source": [
    "failwith \"TODO: solution\""
   ]
  },
  {
   "cell_type": "markdown",
   "metadata": {
    "deletable": false,
    "editable": false,
    "nbgrader": {
     "cell_type": "markdown",
     "checksum": "8dac89fbad4a11f4b7c48aa3a408a2a1",
     "grade": false,
     "grade_id": "cell-dd2d9cfe7faf6946",
     "locked": true,
     "schema_version": 3,
     "solution": false,
     "task": false
    }
   },
   "source": [
    "Write a function that converts a lazy matrix as above to an infinite lazy list whose elements are all of the $z_{ij}$ in some order. (8 marks)\n",
    "\n",
    "> ```ocaml\n",
    ">   val flatten : 'a lazy_list lazy_list -> 'a lazy_list\n",
    "```"
   ]
  },
  {
   "cell_type": "code",
   "execution_count": null,
   "metadata": {
    "deletable": false,
    "nbgrader": {
     "cell_type": "code",
     "checksum": "65964cd4e17caff8c6ef979cda3ec1b7",
     "grade": true,
     "grade_id": "cell-52be70961132b550",
     "locked": false,
     "points": 8,
     "schema_version": 3,
     "solution": true,
     "task": false
    }
   },
   "outputs": [],
   "source": [
    "failwith \"TODO: solution\""
   ]
  }
 ],
 "metadata": {
  "kernelspec": {
   "display_name": "OCaml default",
   "language": "OCaml",
   "name": "ocaml-jupyter"
  },
  "language_info": {
   "codemirror_mode": "text/x-ocaml",
   "file_extension": ".ml",
   "mimetype": "text/x-ocaml",
   "name": "OCaml",
   "nbconverter_exporter": null,
   "pygments_lexer": "OCaml",
   "version": "4.08.1"
  }
 },
 "nbformat": 4,
 "nbformat_minor": 2
}
