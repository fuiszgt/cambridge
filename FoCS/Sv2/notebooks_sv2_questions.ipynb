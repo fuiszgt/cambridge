{
 "cells": [
  {
   "cell_type": "markdown",
   "metadata": {
    "deletable": false,
    "editable": false,
    "nbgrader": {
     "cell_type": "markdown",
     "checksum": "0a1b9429278e31a10f2f34f0c1a104fa",
     "grade": false,
     "grade_id": "cell-51b92372e5983cda",
     "locked": true,
     "schema_version": 3,
     "solution": false,
     "task": false
    }
   },
   "source": [
    "# Foundations of Computer Science (2 of 4)\n",
    "\n",
    "Fill in the various `TODO` items, then submit a copy of this notebook \n",
    "to Craig Ferguson (`me@craigfe.io`) at least 48 hours before the supervision. \n"
   ]
  },
  {
   "cell_type": "code",
   "execution_count": 1,
   "metadata": {},
   "outputs": [
    {
     "data": {
      "text/plain": [
       "val crsid : string = \"gtf23\"\n"
      ]
     },
     "execution_count": 1,
     "metadata": {},
     "output_type": "execute_result"
    },
    {
     "data": {
      "text/plain": [
       "- : unit = ()\n"
      ]
     },
     "execution_count": 1,
     "metadata": {},
     "output_type": "execute_result"
    }
   ],
   "source": [
    "let crsid = \"gtf23\"\n",
    "\n",
    ";; assert (crsid <> \"TODO\")"
   ]
  },
  {
   "cell_type": "markdown",
   "metadata": {
    "deletable": false,
    "editable": false,
    "nbgrader": {
     "cell_type": "markdown",
     "checksum": "e59da5eb88e4c8854343bf2bf45a7cc5",
     "grade": false,
     "grade_id": "cell-fa8c0fdea05e8ead",
     "locked": true,
     "schema_version": 3,
     "solution": false,
     "task": false
    }
   },
   "source": [
    "<hr/>\n",
    "\n",
    "## 1. List utility functions\n",
    "\n",
    "Define the following utility functions on lists. Any use of recursion should be\n",
    "tail-recursive. State the space complexity of each function in terms of its\n",
    "non-functional parameters.\n",
    "\n",
    "- `reverse` $[x_1; ...; x_n]$ is $[x_n; ...; x_1]$;"
   ]
  },
  {
   "cell_type": "code",
   "execution_count": 4,
   "metadata": {
    "deletable": false,
    "nbgrader": {
     "cell_type": "code",
     "checksum": "e1115dd14b71baae12e5fd63b80ce676",
     "grade": false,
     "grade_id": "cell-29fe5c84badbeb57",
     "locked": false,
     "schema_version": 3,
     "solution": true,
     "task": false
    }
   },
   "outputs": [
    {
     "data": {
      "text/plain": [
       "val reverse_imp : 'a list -> 'a list -> 'a list = <fun>\n"
      ]
     },
     "execution_count": 4,
     "metadata": {},
     "output_type": "execute_result"
    },
    {
     "data": {
      "text/plain": [
       "val reverse : 'a list -> 'a list = <fun>\n"
      ]
     },
     "execution_count": 4,
     "metadata": {},
     "output_type": "execute_result"
    }
   ],
   "source": [
    "let rec reverse_imp l acc =\n",
    "    match l with\n",
    "    |[] -> acc\n",
    "    |x::xs -> reverse_imp xs (x::acc)\n",
    "    \n",
    "let reverse l = reverse_imp l []"
   ]
  },
  {
   "cell_type": "code",
   "execution_count": 5,
   "metadata": {
    "deletable": false,
    "editable": false,
    "nbgrader": {
     "cell_type": "code",
     "checksum": "5b1e190eb223931b726527fdbb56a69b",
     "grade": true,
     "grade_id": "cell-3550ab5b3e9baa1c",
     "locked": true,
     "points": 1,
     "schema_version": 3,
     "solution": false,
     "task": false
    }
   },
   "outputs": [
    {
     "data": {
      "text/plain": [
       "- : unit = ()\n"
      ]
     },
     "execution_count": 5,
     "metadata": {},
     "output_type": "execute_result"
    },
    {
     "data": {
      "text/plain": [
       "- : unit = ()\n"
      ]
     },
     "execution_count": 5,
     "metadata": {},
     "output_type": "execute_result"
    },
    {
     "data": {
      "text/plain": [
       "- : unit = ()\n"
      ]
     },
     "execution_count": 5,
     "metadata": {},
     "output_type": "execute_result"
    },
    {
     "data": {
      "text/plain": [
       "- : unit = ()\n"
      ]
     },
     "execution_count": 5,
     "metadata": {},
     "output_type": "execute_result"
    }
   ],
   "source": [
    "(* Ensure that [reverse] has the correct type *)\n",
    ";; let __ : 'a. 'a list -> 'a list = reverse in ()\n",
    "\n",
    ";; assert (reverse [] = [])\n",
    ";; assert (reverse [ 1 ] = [ 1 ])\n",
    ";; assert (reverse [ 1; 2 ] = [ 2; 1 ])"
   ]
  },
  {
   "cell_type": "markdown",
   "metadata": {
    "deletable": false,
    "nbgrader": {
     "cell_type": "markdown",
     "checksum": "5ac0742990a4489790edef3b4341c0b1",
     "grade": true,
     "grade_id": "cell-d2fde9c2a22aa778",
     "locked": false,
     "points": 1,
     "schema_version": 3,
     "solution": true,
     "task": false
    }
   },
   "source": [
    "Time complexity: linear in length\n",
    "Space: linear as well"
   ]
  },
  {
   "cell_type": "markdown",
   "metadata": {
    "deletable": false,
    "editable": false,
    "nbgrader": {
     "cell_type": "markdown",
     "checksum": "ae78da5edc08dbbe00dc4242ce1b7c0e",
     "grade": false,
     "grade_id": "cell-53d1fe0d7ede5ea0",
     "locked": true,
     "schema_version": 3,
     "solution": false,
     "task": false
    }
   },
   "source": [
    "- `map` $[x_1; ...; x_n]$ is $[f(x_1); ...; f(x_n)]$;"
   ]
  },
  {
   "cell_type": "code",
   "execution_count": 12,
   "metadata": {
    "deletable": false,
    "nbgrader": {
     "cell_type": "code",
     "checksum": "19b04a16ffceac4e445ad9d5fe7145c9",
     "grade": false,
     "grade_id": "cell-fa3c3aa002dd0562",
     "locked": false,
     "schema_version": 3,
     "solution": true,
     "task": false
    }
   },
   "outputs": [
    {
     "data": {
      "text/plain": [
       "val map_imp : ('a -> 'b) -> 'a list -> 'b list -> 'b list = <fun>\n"
      ]
     },
     "execution_count": 12,
     "metadata": {},
     "output_type": "execute_result"
    },
    {
     "data": {
      "text/plain": [
       "val map : ('a -> 'b) -> 'a list -> 'b list = <fun>\n"
      ]
     },
     "execution_count": 12,
     "metadata": {},
     "output_type": "execute_result"
    }
   ],
   "source": [
    "let rec map_imp f l acc =\n",
    "match l with\n",
    "    |[]->reverse acc\n",
    "    |x::xs -> map_imp f xs ((f x)::acc)\n",
    "\n",
    "let map f l = \n",
    "    map_imp f l []"
   ]
  },
  {
   "cell_type": "code",
   "execution_count": 13,
   "metadata": {
    "deletable": false,
    "editable": false,
    "nbgrader": {
     "cell_type": "code",
     "checksum": "2020228f97da2b3c34905bc5fdb1c300",
     "grade": true,
     "grade_id": "cell-1d0e14511ae5421f",
     "locked": true,
     "points": 1,
     "schema_version": 3,
     "solution": false,
     "task": false
    }
   },
   "outputs": [
    {
     "data": {
      "text/plain": [
       "- : unit = ()\n"
      ]
     },
     "execution_count": 13,
     "metadata": {},
     "output_type": "execute_result"
    },
    {
     "data": {
      "text/plain": [
       "- : unit = ()\n"
      ]
     },
     "execution_count": 13,
     "metadata": {},
     "output_type": "execute_result"
    },
    {
     "data": {
      "text/plain": [
       "- : unit = ()\n"
      ]
     },
     "execution_count": 13,
     "metadata": {},
     "output_type": "execute_result"
    }
   ],
   "source": [
    ";; let __ : 'a 'b. ('a -> 'b) -> 'a list -> 'b list = map in ()\n",
    ";; assert (map (fun _ -> assert false) [] = [])\n",
    ";; assert (map ((+) 10) [1; 2; 3] = [11; 12; 13])"
   ]
  },
  {
   "cell_type": "markdown",
   "metadata": {
    "deletable": false,
    "nbgrader": {
     "cell_type": "markdown",
     "checksum": "efdc264d33cc54f80062dac3aaec6203",
     "grade": true,
     "grade_id": "cell-075a19a9925d7924",
     "locked": false,
     "points": 1,
     "schema_version": 3,
     "solution": true,
     "task": false
    }
   },
   "source": [
    "Time: linear (times f complexity)\n",
    "Space: linear"
   ]
  },
  {
   "cell_type": "markdown",
   "metadata": {
    "deletable": false,
    "editable": false,
    "nbgrader": {
     "cell_type": "markdown",
     "checksum": "40ac76b4624aefd741954f806a2d362f",
     "grade": false,
     "grade_id": "cell-d363a87889d8dab0",
     "locked": true,
     "schema_version": 3,
     "solution": false,
     "task": false
    }
   },
   "source": [
    "- `filter` $p\\ l$ is the list containing the elements of $l$ that satisfy the predicate $p$, in the order that they appear in $l$."
   ]
  },
  {
   "cell_type": "code",
   "execution_count": 14,
   "metadata": {
    "deletable": false,
    "nbgrader": {
     "cell_type": "code",
     "checksum": "5707599fafd7465dfb4740dce50a3502",
     "grade": false,
     "grade_id": "cell-8ec68ac8560c1b39",
     "locked": false,
     "schema_version": 3,
     "solution": true,
     "task": false
    }
   },
   "outputs": [
    {
     "data": {
      "text/plain": [
       "val filter_imp : ('a -> bool) -> 'a list -> 'a list -> 'a list = <fun>\n"
      ]
     },
     "execution_count": 14,
     "metadata": {},
     "output_type": "execute_result"
    },
    {
     "data": {
      "text/plain": [
       "val filter : ('a -> bool) -> 'a list -> 'a list = <fun>\n"
      ]
     },
     "execution_count": 14,
     "metadata": {},
     "output_type": "execute_result"
    }
   ],
   "source": [
    "let rec filter_imp f l acc =\n",
    "match l with\n",
    "    |[]->reverse acc\n",
    "    |x::xs -> filter_imp f xs (if f x then x::acc else acc)\n",
    "\n",
    "let filter f l =\n",
    "    filter_imp f l []"
   ]
  },
  {
   "cell_type": "code",
   "execution_count": 15,
   "metadata": {
    "deletable": false,
    "editable": false,
    "nbgrader": {
     "cell_type": "code",
     "checksum": "02e8ec6c262396240700710848102bc3",
     "grade": true,
     "grade_id": "cell-6f40be3250ea274c",
     "locked": true,
     "points": 1,
     "schema_version": 3,
     "solution": false,
     "task": false
    }
   },
   "outputs": [
    {
     "data": {
      "text/plain": [
       "- : unit = ()\n"
      ]
     },
     "execution_count": 15,
     "metadata": {},
     "output_type": "execute_result"
    },
    {
     "data": {
      "text/plain": [
       "- : unit = ()\n"
      ]
     },
     "execution_count": 15,
     "metadata": {},
     "output_type": "execute_result"
    },
    {
     "data": {
      "text/plain": [
       "- : unit = ()\n"
      ]
     },
     "execution_count": 15,
     "metadata": {},
     "output_type": "execute_result"
    },
    {
     "data": {
      "text/plain": [
       "- : unit = ()\n"
      ]
     },
     "execution_count": 15,
     "metadata": {},
     "output_type": "execute_result"
    }
   ],
   "source": [
    ";; let __ : 'a. ('a -> bool) -> 'a list -> 'a list = filter in ()\n",
    ";; assert (filter (fun _ -> assert false) [] = [])\n",
    ";; assert (filter (fun _ -> false) [1; 2; 3] = [])\n",
    ";; assert (filter ((>) 0) [1; -1; 2; -2] = [-1; -2])"
   ]
  },
  {
   "cell_type": "markdown",
   "metadata": {
    "deletable": false,
    "nbgrader": {
     "cell_type": "markdown",
     "checksum": "57b36b7e54ee6bbe5343258483161e1b",
     "grade": true,
     "grade_id": "cell-dce843d68b8b3478",
     "locked": false,
     "points": 1,
     "schema_version": 3,
     "solution": true,
     "task": false
    }
   },
   "source": [
    "Linear time and space complexity. Note: we could use a special map here in filter, which assignes the value itself if the predicate is satisfied, and a constructor \"None\" otherwise. After this, we can remove all None-s from the list."
   ]
  },
  {
   "cell_type": "markdown",
   "metadata": {
    "deletable": false,
    "editable": false,
    "nbgrader": {
     "cell_type": "markdown",
     "checksum": "b082265ae1e72b1d5a12df70034d8a6d",
     "grade": false,
     "grade_id": "cell-fa4d7f11be621025",
     "locked": true,
     "schema_version": 3,
     "solution": false,
     "task": false
    }
   },
   "source": [
    "- `fold_left` $f\\ a\\ [b_1; b_2; ...; b_n]$ is the accumulated value $a'$ resulting from adding each element $b_i$ to the initial accumulator $a$ (from $b_1$ to $b_n$) with the binary operator $f$. That is: $f\\ (...\\ (f\\ (f\\ a\\ b_1)\\ b_2)\\ ...)\\ b_n$."
   ]
  },
  {
   "cell_type": "code",
   "execution_count": 21,
   "metadata": {
    "deletable": false,
    "nbgrader": {
     "cell_type": "code",
     "checksum": "0bda2c6dcb6960f8733bd38de62516d6",
     "grade": false,
     "grade_id": "cell-9c0a03457dd87de3",
     "locked": false,
     "schema_version": 3,
     "solution": true,
     "task": false
    }
   },
   "outputs": [
    {
     "data": {
      "text/plain": [
       "val fold_left : ('a -> 'b -> 'a) -> 'a -> 'b list -> 'a = <fun>\n"
      ]
     },
     "execution_count": 21,
     "metadata": {},
     "output_type": "execute_result"
    }
   ],
   "source": [
    "let rec fold_left f a = function\n",
    "    |[] -> a\n",
    "    |x::xs -> fold_left f (f a x) xs"
   ]
  },
  {
   "cell_type": "code",
   "execution_count": 22,
   "metadata": {
    "deletable": false,
    "editable": false,
    "nbgrader": {
     "cell_type": "code",
     "checksum": "204fead4e73871f236927fa8c6e07512",
     "grade": true,
     "grade_id": "cell-31e8baf606625294",
     "locked": true,
     "points": 1,
     "schema_version": 3,
     "solution": false,
     "task": false
    }
   },
   "outputs": [
    {
     "data": {
      "text/plain": [
       "- : unit = ()\n"
      ]
     },
     "execution_count": 22,
     "metadata": {},
     "output_type": "execute_result"
    },
    {
     "data": {
      "text/plain": [
       "- : unit = ()\n"
      ]
     },
     "execution_count": 22,
     "metadata": {},
     "output_type": "execute_result"
    },
    {
     "data": {
      "text/plain": [
       "- : unit = ()\n"
      ]
     },
     "execution_count": 22,
     "metadata": {},
     "output_type": "execute_result"
    }
   ],
   "source": [
    ";; let __ : 'a 'b. ('a -> 'b -> 'a) -> 'a -> 'b list -> 'a = fold_left in ()\n",
    ";; assert (fold_left (fun _ -> assert false) true [])\n",
    ";; assert (fold_left (fun acc x -> x - acc) 0 [1; 2; 3] = 2)"
   ]
  },
  {
   "cell_type": "markdown",
   "metadata": {
    "deletable": false,
    "nbgrader": {
     "cell_type": "markdown",
     "checksum": "4dbb2579aecd7ecd4723c9d19a8c1a3b",
     "grade": true,
     "grade_id": "cell-f105c45681c500cc",
     "locked": false,
     "points": 1,
     "schema_version": 3,
     "solution": true,
     "task": false
    }
   },
   "source": [
    "Time complexity: linear.\n",
    "Space complexity: also linear."
   ]
  },
  {
   "cell_type": "markdown",
   "metadata": {
    "deletable": false,
    "editable": false,
    "nbgrader": {
     "cell_type": "markdown",
     "checksum": "934b2ce7cb5ff5d1e9126cad2e2007e2",
     "grade": false,
     "grade_id": "cell-b8b1d49fb92ba631",
     "locked": true,
     "schema_version": 3,
     "solution": false,
     "task": false
    }
   },
   "source": [
    "<hr/>\n",
    "\n",
    "## 2. Partial application\n",
    "\n",
    "For this question, you are highly encouraged to use the list utility functions\n",
    "you defined above.\n",
    "\n",
    "\n",
    "- `increment_all` $[x_1;\\ ...;\\ x_n]$ is $[x_1 + 1;\\ ...;\\ x_n + 1]$;"
   ]
  },
  {
   "cell_type": "code",
   "execution_count": 18,
   "metadata": {
    "deletable": false,
    "nbgrader": {
     "cell_type": "code",
     "checksum": "25d592ca54cb892345ce399a65138649",
     "grade": false,
     "grade_id": "cell-257fa9b36f742c88",
     "locked": false,
     "schema_version": 3,
     "solution": true,
     "task": false
    }
   },
   "outputs": [
    {
     "data": {
      "text/plain": [
       "val increment_all : int list -> int list = <fun>\n"
      ]
     },
     "execution_count": 18,
     "metadata": {},
     "output_type": "execute_result"
    }
   ],
   "source": [
    "let increment_all = map ((+) 1)"
   ]
  },
  {
   "cell_type": "code",
   "execution_count": 19,
   "metadata": {
    "deletable": false,
    "editable": false,
    "nbgrader": {
     "cell_type": "code",
     "checksum": "2899cb5f3b2377c76fc70b279dd6cac1",
     "grade": true,
     "grade_id": "cell-30d32d91aba20bf1",
     "locked": true,
     "points": 1,
     "schema_version": 3,
     "solution": false,
     "task": false
    }
   },
   "outputs": [
    {
     "data": {
      "text/plain": [
       "- : unit = ()\n"
      ]
     },
     "execution_count": 19,
     "metadata": {},
     "output_type": "execute_result"
    },
    {
     "data": {
      "text/plain": [
       "- : unit = ()\n"
      ]
     },
     "execution_count": 19,
     "metadata": {},
     "output_type": "execute_result"
    }
   ],
   "source": [
    ";; assert (increment_all [] = [])\n",
    ";; assert (increment_all [ 1; 2; 4 ] = [ 2; 3; 5 ])"
   ]
  },
  {
   "cell_type": "markdown",
   "metadata": {
    "deletable": false,
    "editable": false,
    "nbgrader": {
     "cell_type": "markdown",
     "checksum": "cecd87a133e248db0bb8515dacdbde9e",
     "grade": false,
     "grade_id": "cell-26ec3f426bd152ae",
     "locked": true,
     "schema_version": 3,
     "solution": false,
     "task": false
    }
   },
   "source": [
    "- `sum` $[x_1; ...; x_n]$ is $\\sum_{i=1}^n x_i$;"
   ]
  },
  {
   "cell_type": "code",
   "execution_count": 23,
   "metadata": {
    "deletable": false,
    "nbgrader": {
     "cell_type": "code",
     "checksum": "6837ffff46d7d80ea1cb45889a893599",
     "grade": false,
     "grade_id": "cell-2a75ddc9ddcc1fe1",
     "locked": false,
     "schema_version": 3,
     "solution": true,
     "task": false
    }
   },
   "outputs": [
    {
     "data": {
      "text/plain": [
       "val sum : int list -> int = <fun>\n"
      ]
     },
     "execution_count": 23,
     "metadata": {},
     "output_type": "execute_result"
    }
   ],
   "source": [
    "let sum = fold_left (+) 0"
   ]
  },
  {
   "cell_type": "code",
   "execution_count": 24,
   "metadata": {
    "deletable": false,
    "editable": false,
    "nbgrader": {
     "cell_type": "code",
     "checksum": "f17bd03b04631428ae468303a768d43b",
     "grade": true,
     "grade_id": "cell-07f8729a8010bd78",
     "locked": true,
     "points": 1,
     "schema_version": 3,
     "solution": false,
     "task": false
    }
   },
   "outputs": [
    {
     "data": {
      "text/plain": [
       "- : unit = ()\n"
      ]
     },
     "execution_count": 24,
     "metadata": {},
     "output_type": "execute_result"
    },
    {
     "data": {
      "text/plain": [
       "- : unit = ()\n"
      ]
     },
     "execution_count": 24,
     "metadata": {},
     "output_type": "execute_result"
    }
   ],
   "source": [
    ";; assert (sum [] = 0)\n",
    ";; assert (sum [1; 2; 3] = 6)"
   ]
  },
  {
   "cell_type": "markdown",
   "metadata": {
    "deletable": false,
    "editable": false,
    "nbgrader": {
     "cell_type": "markdown",
     "checksum": "98d57be75e451acb291f26341912b3bf",
     "grade": false,
     "grade_id": "cell-497afae701a421e9",
     "locked": true,
     "schema_version": 3,
     "solution": false,
     "task": false
    }
   },
   "source": [
    "- `pairs_sum_to` $n\\ l$ returns the list of all _unique ordered pairs_ $(x, y)$ such that $x, y \\in l$ and $x + y = n$.\n"
   ]
  },
  {
   "cell_type": "code",
   "execution_count": null,
   "metadata": {
    "deletable": false,
    "nbgrader": {
     "cell_type": "code",
     "checksum": "8f212bada888bff24c6dd5cf46026efd",
     "grade": false,
     "grade_id": "cell-6ca2747158dc81de",
     "locked": false,
     "schema_version": 3,
     "solution": true,
     "task": false
    }
   },
   "outputs": [],
   "source": [
    "let get_unique = function  "
   ]
  },
  {
   "cell_type": "code",
   "execution_count": null,
   "metadata": {
    "deletable": false,
    "editable": false,
    "nbgrader": {
     "cell_type": "code",
     "checksum": "1cf4b07e5f79eaefbf6c46031e6b2d92",
     "grade": true,
     "grade_id": "cell-27adfef709823527",
     "locked": true,
     "points": 4,
     "schema_version": 3,
     "solution": false,
     "task": false
    }
   },
   "outputs": [],
   "source": [
    "(* Set equality as given by structural comparison *)\n",
    "let ( =~ ) a b = List.sort compare a = List.sort compare b\n",
    "\n",
    ";; assert (pairs_sum_to 5 [1; 4]       =~ [(1, 4); (4, 1)])\n",
    ";; assert (pairs_sum_to 5 [1; 2; 3; 4] =~ [(1, 4); (2, 3); (3, 2); (4, 1)])\n",
    ";; assert (pairs_sum_to 5 [1; 1; 1; 4] =~ [(1, 4); (4, 1)])\n",
    ";; assert (pairs_sum_to 5 [1; 1; 4; 4] =~ [(1, 4); (4, 1)])\n",
    ";; assert (pairs_sum_to 2 [1; 1; 1; 1] =~ [(1, 1)])"
   ]
  },
  {
   "cell_type": "markdown",
   "metadata": {
    "deletable": false,
    "editable": false,
    "nbgrader": {
     "cell_type": "markdown",
     "checksum": "dd393010e05f0c26e62c24fc5d078e8b",
     "grade": false,
     "grade_id": "cell-79641ab8564b56bf",
     "locked": true,
     "schema_version": 3,
     "solution": false,
     "task": false
    }
   },
   "source": [
    "<hr/>\n",
    "\n",
    "\n",
    "## 3. Trees\n",
    "\n",
    "Consider the following type of polymorphic trees:\n"
   ]
  },
  {
   "cell_type": "code",
   "execution_count": 27,
   "metadata": {
    "deletable": false,
    "editable": false,
    "nbgrader": {
     "cell_type": "code",
     "checksum": "f4663359800e54398ae99815d1f19f20",
     "grade": false,
     "grade_id": "cell-299afe837995c10f",
     "locked": true,
     "schema_version": 3,
     "solution": false,
     "task": false
    }
   },
   "outputs": [
    {
     "data": {
      "text/plain": [
       "type 'a tree = Branch of 'a * 'a tree list | Leaf\n"
      ]
     },
     "execution_count": 27,
     "metadata": {},
     "output_type": "execute_result"
    }
   ],
   "source": [
    "type 'a tree = Branch of 'a * 'a tree list | Leaf"
   ]
  },
  {
   "cell_type": "markdown",
   "metadata": {
    "deletable": false,
    "editable": false,
    "nbgrader": {
     "cell_type": "markdown",
     "checksum": "fc9850defc5c0a7ee7745896e4be8063",
     "grade": false,
     "grade_id": "cell-914cea39fbf77db5",
     "locked": true,
     "schema_version": 3,
     "solution": false,
     "task": false
    }
   },
   "source": [
    "\n",
    "1. Provide a function `prune` that takes a predicate $p$ and a tree $t$ and\n",
    "   returns $t$ with any branches `Branch` $(v, ts)$ such that\n",
    "   $p(v) =$ `false` replaced with `Leaf` nodes.\n"
   ]
  },
  {
   "cell_type": "code",
   "execution_count": 32,
   "metadata": {
    "deletable": false,
    "nbgrader": {
     "cell_type": "code",
     "checksum": "455e9164762833ff24b0a0e62ec0aad6",
     "grade": true,
     "grade_id": "cell-b7b595060a6aa4dd",
     "locked": false,
     "points": 0,
     "schema_version": 3,
     "solution": true,
     "task": false
    }
   },
   "outputs": [
    {
     "data": {
      "text/plain": [
       "val prune : ('a -> bool) -> 'a tree -> 'a tree = <fun>\n"
      ]
     },
     "execution_count": 32,
     "metadata": {},
     "output_type": "execute_result"
    }
   ],
   "source": [
    "let rec prune p = function\n",
    "    |Leaf -> Leaf\n",
    "    |Branch(v, tf) -> if p v then Branch(v, map (prune p) tf) else Leaf"
   ]
  },
  {
   "cell_type": "code",
   "execution_count": 33,
   "metadata": {
    "deletable": false,
    "editable": false,
    "nbgrader": {
     "cell_type": "code",
     "checksum": "5c1b3c1b7c02cd7d340415e2c07031c1",
     "grade": true,
     "grade_id": "cell-d76787056801f179",
     "locked": true,
     "points": 4,
     "schema_version": 3,
     "solution": false,
     "task": false
    }
   },
   "outputs": [
    {
     "data": {
      "text/plain": [
       "- : unit = ()\n"
      ]
     },
     "execution_count": 33,
     "metadata": {},
     "output_type": "execute_result"
    },
    {
     "data": {
      "text/plain": [
       "- : unit = ()\n"
      ]
     },
     "execution_count": 33,
     "metadata": {},
     "output_type": "execute_result"
    },
    {
     "data": {
      "text/plain": [
       "- : unit = ()\n"
      ]
     },
     "execution_count": 33,
     "metadata": {},
     "output_type": "execute_result"
    }
   ],
   "source": [
    ";; let __ : 'a. ('a -> bool) -> 'a tree -> 'a tree = prune in ()\n",
    ";; assert (prune ((=) 0) (Branch (1, [ Branch (0, []); Leaf ])) = Leaf)\n",
    ";; assert (prune ((=) 0) (Branch (0, [ Branch (0, []); Branch (1, []) ])) = Branch (0, [ Branch (0, []); Leaf ]))"
   ]
  },
  {
   "cell_type": "markdown",
   "metadata": {
    "deletable": false,
    "editable": false,
    "nbgrader": {
     "cell_type": "markdown",
     "checksum": "c53b9d17278fca3f90854fca30d8fd9d",
     "grade": false,
     "grade_id": "cell-c5465cb2cac1574f",
     "locked": true,
     "schema_version": 3,
     "solution": false,
     "task": false
    }
   },
   "source": [
    "2. Provide a function `count_subleaves` that takes a tree and replaces each value\n",
    "   in the tree with a count of the number of `Leaf` nodes beneath that value in\n",
    "   the tree.\n"
   ]
  },
  {
   "cell_type": "code",
   "execution_count": 54,
   "metadata": {
    "deletable": false,
    "nbgrader": {
     "cell_type": "code",
     "checksum": "15b8eda298e1db13b8a051dfcd3b0bef",
     "grade": false,
     "grade_id": "cell-ebeed3688957d1ab",
     "locked": false,
     "schema_version": 3,
     "solution": true,
     "task": false
    }
   },
   "outputs": [
    {
     "data": {
      "text/plain": [
       "val count_subleaves : 'a tree -> int tree = <fun>\n"
      ]
     },
     "execution_count": 54,
     "metadata": {},
     "output_type": "execute_result"
    }
   ],
   "source": [
    "let rec count_subleaves = function \n",
    "    |Leaf -> Leaf\n",
    "    |Branch(v, tl) -> \n",
    "        let subtree = map count_subleaves tl in\n",
    "        let leafsum = sum (map (function |Branch(v, tl)->v |Leaf ->1) subtree) in\n",
    "        Branch(leafsum, subtree)"
   ]
  },
  {
   "cell_type": "code",
   "execution_count": 55,
   "metadata": {
    "deletable": false,
    "editable": false,
    "nbgrader": {
     "cell_type": "code",
     "checksum": "6be547020fa6fad58c08e7e010492500",
     "grade": true,
     "grade_id": "cell-a36eb99d6cc88726",
     "locked": true,
     "points": 4,
     "schema_version": 3,
     "solution": false,
     "task": false
    }
   },
   "outputs": [
    {
     "data": {
      "text/plain": [
       "- : unit = ()\n"
      ]
     },
     "execution_count": 55,
     "metadata": {},
     "output_type": "execute_result"
    },
    {
     "data": {
      "text/plain": [
       "- : unit = ()\n"
      ]
     },
     "execution_count": 55,
     "metadata": {},
     "output_type": "execute_result"
    },
    {
     "data": {
      "text/plain": [
       "- : unit = ()\n"
      ]
     },
     "execution_count": 55,
     "metadata": {},
     "output_type": "execute_result"
    },
    {
     "data": {
      "text/plain": [
       "- : unit = ()\n"
      ]
     },
     "execution_count": 55,
     "metadata": {},
     "output_type": "execute_result"
    }
   ],
   "source": [
    ";; let __ : 'a. 'a tree -> int tree = count_subleaves in ()\n",
    ";; assert (count_subleaves Leaf = Leaf)\n",
    ";; assert (count_subleaves (Branch ((), [])) = Branch (0, []))\n",
    ";; assert (count_subleaves \n",
    "      (Branch ((), [Branch ((), [ Leaf; Leaf ]); Leaf; Leaf ]))\n",
    "    = (Branch (4,  [Branch (2,  [ Leaf; Leaf ]); Leaf; Leaf ]))\n",
    "   )"
   ]
  },
  {
   "cell_type": "markdown",
   "metadata": {
    "deletable": false,
    "editable": false,
    "nbgrader": {
     "cell_type": "markdown",
     "checksum": "99ecfdc122c9cb8482c108da877d0972",
     "grade": false,
     "grade_id": "cell-6240fca7a888ea35",
     "locked": true,
     "schema_version": 3,
     "solution": false,
     "task": false
    }
   },
   "source": [
    "<hr/>\n",
    "\n",
    "## 4. Binary search tree\n",
    "\n",
    "The polymorphic comparison operators provided by the OCaml standard library (`<`, `<=`, `=` etc.) define one specific order for each type, but this is not the only plausable ordering. For instance, we might want to sort a list of integers by their _absolute_ values:"
   ]
  },
  {
   "cell_type": "code",
   "execution_count": 56,
   "metadata": {
    "deletable": false,
    "editable": false,
    "nbgrader": {
     "cell_type": "code",
     "checksum": "fcb5cb8d06508ec4f93845f24ee9c515",
     "grade": false,
     "grade_id": "cell-c016b978219db5b1",
     "locked": true,
     "schema_version": 3,
     "solution": false,
     "task": false
    }
   },
   "outputs": [
    {
     "data": {
      "text/plain": [
       "val compare_abs : int -> int -> int = <fun>\n"
      ]
     },
     "execution_count": 56,
     "metadata": {},
     "output_type": "execute_result"
    },
    {
     "data": {
      "text/plain": [
       "- : int list = [0; 1; -1; 2; -2; 3; -3]\n"
      ]
     },
     "execution_count": 56,
     "metadata": {},
     "output_type": "execute_result"
    }
   ],
   "source": [
    "let compare_abs x y = compare (abs x) (abs y)\n",
    "\n",
    ";; List.sort compare_abs [ 1; 2; 3; 0; -1; -2; -3 ]"
   ]
  },
  {
   "cell_type": "markdown",
   "metadata": {
    "deletable": false,
    "editable": false,
    "nbgrader": {
     "cell_type": "markdown",
     "checksum": "d34b8815c0b362140f4fa33164ca4dd8",
     "grade": false,
     "grade_id": "cell-be2c169c99f1dce2",
     "locked": true,
     "schema_version": 3,
     "solution": false,
     "task": false
    }
   },
   "source": [
    "For this reason, functions such as `List.sort` that require types to have some notion of _order_ often take an explicit parameter that defines that order (and using the polymorphic comparison operators is generally considered bad practice unless you _know_ that the ordering that it provides is correct). An obvious way to define orderings on a type is via a _comparator function_ on that type.\n",
    "\n",
    "An `'a comparator` is a function $c$ that defines an ordering on values of\n",
    "type `'a` such that:\n",
    "\n",
    "- `c x y = Less_than` when $x < y$\n",
    "- `c x y = Equal` when $x = y$\n",
    "- `c x y = Greater_than` when $x > y$\n"
   ]
  },
  {
   "cell_type": "code",
   "execution_count": 126,
   "metadata": {
    "deletable": false,
    "editable": false,
    "nbgrader": {
     "cell_type": "code",
     "checksum": "826e01a455141e771e04e99cdc9a55e8",
     "grade": false,
     "grade_id": "cell-5e37a3c1f22e8488",
     "locked": true,
     "schema_version": 3,
     "solution": false,
     "task": false
    }
   },
   "outputs": [
    {
     "data": {
      "text/plain": [
       "type ordering = Less_than | Equal | Greater_than\n"
      ]
     },
     "execution_count": 126,
     "metadata": {},
     "output_type": "execute_result"
    },
    {
     "data": {
      "text/plain": [
       "type 'a comparator = 'a -> 'a -> ordering\n"
      ]
     },
     "execution_count": 126,
     "metadata": {},
     "output_type": "execute_result"
    }
   ],
   "source": [
    "type    ordering   = Less_than | Equal | Greater_than\n",
    "type 'a comparator = 'a -> 'a -> ordering"
   ]
  },
  {
   "cell_type": "markdown",
   "metadata": {
    "deletable": false,
    "editable": false,
    "nbgrader": {
     "cell_type": "markdown",
     "checksum": "fa35a74f16e915227045b2a955a7ac24",
     "grade": false,
     "grade_id": "cell-d8ddfc70b067e623",
     "locked": true,
     "schema_version": 3,
     "solution": false,
     "task": false
    }
   },
   "source": [
    "One data-structure that requires a notion of ordered types is a _binary search tree_:"
   ]
  },
  {
   "cell_type": "code",
   "execution_count": 61,
   "metadata": {
    "deletable": false,
    "editable": false,
    "nbgrader": {
     "cell_type": "code",
     "checksum": "3253dbe35cec8f76bf99ac1346448bcc",
     "grade": false,
     "grade_id": "cell-d2ef054bb59227eb",
     "locked": true,
     "schema_version": 3,
     "solution": false,
     "task": false
    }
   },
   "outputs": [
    {
     "data": {
      "text/plain": [
       "type 'a bst = Branch of 'a * 'a bst * 'a bst | Leaf\n"
      ]
     },
     "execution_count": 61,
     "metadata": {},
     "output_type": "execute_result"
    }
   ],
   "source": [
    "type 'a bst = Branch of 'a * 'a bst * 'a bst | Leaf"
   ]
  },
  {
   "cell_type": "markdown",
   "metadata": {
    "deletable": false,
    "editable": false,
    "nbgrader": {
     "cell_type": "markdown",
     "checksum": "3e377d48bb641791e5f109dadc914f5d",
     "grade": false,
     "grade_id": "cell-f6fd6659e9055f79",
     "locked": true,
     "schema_version": 3,
     "solution": false,
     "task": false
    }
   },
   "source": [
    "An `'a` binary search tree is an `'a bst` and an `'a comparator`,\n",
    "$c$, such that for each branch, $\\texttt{Branch}\\ (v,\\ l,\\ r)$, in the tree:\n",
    "\n",
    "- all values in $l$ are _less than_ $v$ as defined by $c$;\n",
    "- all values in $r$ are _greater than_ $v$ as defined by $c$;\n",
    "- there are no values in either $l$ or $r$ that are _equal to_ $v$ as defined by $c$.\n",
    "\n",
    "Define the following functions on binary search trees:\n",
    "\n",
    "1. `insert` $c\\ v$ is a function that inserts the value $v$ into trees\n",
    "   that are well-ordered with respect to comparator $c$. (2 marks)"
   ]
  },
  {
   "cell_type": "code",
   "execution_count": 64,
   "metadata": {
    "deletable": false,
    "nbgrader": {
     "cell_type": "code",
     "checksum": "91bf945f9d209ce49769165652ffba0e",
     "grade": false,
     "grade_id": "cell-244307f376007166",
     "locked": false,
     "schema_version": 3,
     "solution": true,
     "task": false
    }
   },
   "outputs": [
    {
     "data": {
      "text/plain": [
       "val insert : ('a -> 'a -> ordering) -> 'a -> 'a bst -> 'a bst = <fun>\n"
      ]
     },
     "execution_count": 64,
     "metadata": {},
     "output_type": "execute_result"
    }
   ],
   "source": [
    "let rec insert c v = function\n",
    "    |Leaf -> Branch(v, Leaf, Leaf)\n",
    "    |Branch(w, t1, t2) -> \n",
    "    if (c v w = Equal) then Branch(w, t1, t2) else\n",
    "        if (c v w = Greater_than) then insert c v t1 else insert c v t2"
   ]
  },
  {
   "cell_type": "code",
   "execution_count": 65,
   "metadata": {
    "deletable": false,
    "editable": false,
    "nbgrader": {
     "cell_type": "code",
     "checksum": "d03231e6c6dab914d754adafd947b2d8",
     "grade": true,
     "grade_id": "cell-db34da7edc23794b",
     "locked": true,
     "points": 2,
     "schema_version": 3,
     "solution": false,
     "task": false
    }
   },
   "outputs": [
    {
     "data": {
      "text/plain": [
       "- : unit = ()\n"
      ]
     },
     "execution_count": 65,
     "metadata": {},
     "output_type": "execute_result"
    }
   ],
   "source": [
    ";; let __ : 'a. 'a comparator -> 'a -> 'a bst -> 'a bst = insert in ()"
   ]
  },
  {
   "cell_type": "markdown",
   "metadata": {
    "deletable": false,
    "editable": false,
    "nbgrader": {
     "cell_type": "markdown",
     "checksum": "33b8c778d1c286d678a7da7b7f0aa005",
     "grade": false,
     "grade_id": "cell-db5fc2f5d423f627",
     "locked": true,
     "schema_version": 3,
     "solution": false,
     "task": false
    }
   },
   "source": [
    "\n",
    "2. `fold f acc t` walks the binary tree `t` and returns accumulates the\n",
    "    elements into the accumulator `acc` using the function `f`, just as with\n",
    "    the fold functions on lists. The order in which elements are accumulated\n",
    "    does not matter.\n"
   ]
  },
  {
   "cell_type": "code",
   "execution_count": 118,
   "metadata": {
    "deletable": false,
    "nbgrader": {
     "cell_type": "code",
     "checksum": "8c277a4581b15a3464df6417b4a6ee71",
     "grade": false,
     "grade_id": "cell-1653b1a9d9cd075a",
     "locked": false,
     "schema_version": 3,
     "solution": true,
     "task": false
    }
   },
   "outputs": [
    {
     "data": {
      "text/plain": [
       "val fold : ('a -> 'b -> 'a) -> 'a -> 'b bst -> 'a = <fun>\n"
      ]
     },
     "execution_count": 118,
     "metadata": {},
     "output_type": "execute_result"
    }
   ],
   "source": [
    "let rec fold f acc = function\n",
    "    |Leaf -> acc\n",
    "    |Branch(v, t1, t2) -> \n",
    "    let right = fold f (f acc v) t1 in\n",
    "    fold f right t2"
   ]
  },
  {
   "cell_type": "code",
   "execution_count": 119,
   "metadata": {
    "deletable": false,
    "editable": false,
    "nbgrader": {
     "cell_type": "code",
     "checksum": "6f4467a0622fc5e65f91b96f6d96ef7f",
     "grade": true,
     "grade_id": "cell-97e28ec79d48bb6e",
     "locked": true,
     "points": 2,
     "schema_version": 3,
     "solution": false,
     "task": false
    }
   },
   "outputs": [
    {
     "data": {
      "text/plain": [
       "- : unit = ()\n"
      ]
     },
     "execution_count": 119,
     "metadata": {},
     "output_type": "execute_result"
    },
    {
     "data": {
      "text/plain": [
       "- : unit = ()\n"
      ]
     },
     "execution_count": 119,
     "metadata": {},
     "output_type": "execute_result"
    },
    {
     "data": {
      "text/plain": [
       "- : unit = ()\n"
      ]
     },
     "execution_count": 119,
     "metadata": {},
     "output_type": "execute_result"
    }
   ],
   "source": [
    ";; let __ : 'a 'b. ('a -> 'b -> 'a) -> 'a -> 'b bst -> 'a = fold in ()\n",
    ";; assert (fold (+) 0 Leaf = 0)\n",
    ";; assert (fold (+) 0 (Branch (1, Branch (2, Leaf, Leaf), Branch (3, Leaf, Leaf))) = 6)"
   ]
  },
  {
   "cell_type": "markdown",
   "metadata": {
    "deletable": false,
    "editable": false,
    "nbgrader": {
     "cell_type": "markdown",
     "checksum": "aad6aac3ddf59178afcb12553fe2ec10",
     "grade": false,
     "grade_id": "cell-9730c2edee39a46f",
     "locked": true,
     "schema_version": 3,
     "solution": false,
     "task": false
    }
   },
   "source": [
    "\n",
    "A `map` function on binary trees takes three parameters:\n",
    "\n",
    "  - a function $f$ of type $\\alpha \\rightarrow \\alpha$;\n",
    "\n",
    "  - a comparator $c$ over values of type $\\alpha$;\n",
    "\n",
    "  - a binary tree $t$ with values of type $\\alpha$, which is well-ordered with\n",
    "    respect to $c$.\n",
    "\n",
    "and returns a binary search tree containing the values $f(v)$ for each $v$\n",
    "in $t$, that is also well-ordered with respect to $c$. \n",
    "Provide two implementations of `map`:\n",
    "\n",
    "3. `map_monotonic`, which assumes that $f$ is order-preserving with\n",
    "  respect to comparator $c$. That is: $\\forall x, y \\in \\alpha.\\ c\\ x\\ y$ = $c\\ (f\\ x)\\ (f\\ y)$.\n",
    "\n",
    "4. `map_nonmonotonic`, which does not make this assumption.\n"
   ]
  },
  {
   "cell_type": "code",
   "execution_count": 138,
   "metadata": {
    "deletable": false,
    "nbgrader": {
     "cell_type": "code",
     "checksum": "062668e8ec822a50aac03ea9e7c53056",
     "grade": false,
     "grade_id": "cell-23f4a231237ba7ac",
     "locked": false,
     "schema_version": 3,
     "solution": true,
     "task": false
    }
   },
   "outputs": [
    {
     "data": {
      "text/plain": [
       "val map_monotonic : ('a -> 'b) -> 'c -> 'a bst -> 'b bst = <fun>\n"
      ]
     },
     "execution_count": 138,
     "metadata": {},
     "output_type": "execute_result"
    }
   ],
   "source": [
    "let rec map_monotonic f c = function\n",
    "    |Leaf -> Leaf\n",
    "    |Branch(v, t1, t2) -> Branch(f v, map_monotonic f c t1, map_monotonic f c t2)"
   ]
  },
  {
   "cell_type": "code",
   "execution_count": 139,
   "metadata": {
    "deletable": false,
    "editable": false,
    "nbgrader": {
     "cell_type": "code",
     "checksum": "51f22c23394271b7a34803bed9ab5a6c",
     "grade": true,
     "grade_id": "cell-94ff5527531bf042",
     "locked": true,
     "points": 2,
     "schema_version": 3,
     "solution": false,
     "task": false
    }
   },
   "outputs": [
    {
     "ename": "error",
     "evalue": "compile_error",
     "output_type": "error",
     "traceback": [
      "File \"[139]\", line 1, characters 66-79:\n1 | ;; let __ : 'a. 'a comparator -> ('a -> 'a) -> 'a bst -> 'a bst = map_monotonic in ()\n                                                                      ^^^^^^^^^^^^^\nError: This expression has type\n         'a comparator -> ('a -> 'a) -> 'a bst -> ('a -> ordering) bst\n       but an expression was expected of type\n         'a comparator -> ('a -> 'a) -> 'a bst -> 'a bst\n       The type variable 'a occurs inside 'a -> ordering\n"
     ]
    }
   ],
   "source": [
    ";; let __ : 'a. 'a comparator -> ('a -> 'a) -> 'a bst -> 'a bst = map_monotonic in ()"
   ]
  },
  {
   "cell_type": "code",
   "execution_count": 136,
   "metadata": {
    "deletable": false,
    "nbgrader": {
     "cell_type": "code",
     "checksum": "5af1c195dbc6f2d1f988a13f8df2e73d",
     "grade": false,
     "grade_id": "cell-752e1345c21448b0",
     "locked": false,
     "schema_version": 3,
     "solution": true,
     "task": false
    }
   },
   "outputs": [
    {
     "data": {
      "text/plain": [
       "val map_nonmonotonic :\n",
       "  ('a -> 'a) -> ('a -> 'a -> ordering/2) -> 'a bst -> 'a bst = <fun>\n"
      ]
     },
     "execution_count": 136,
     "metadata": {},
     "output_type": "execute_result"
    }
   ],
   "source": [
    "let rec map_nonmonotonic f c=\n",
    "    let swap_arg_insert newmap v = insert c (f v) newmap in\n",
    "    fold swap_arg_insert Leaf"
   ]
  },
  {
   "cell_type": "code",
   "execution_count": 137,
   "metadata": {
    "deletable": false,
    "editable": false,
    "nbgrader": {
     "cell_type": "code",
     "checksum": "462eee3569a4c4036b820b5d6d42bf39",
     "grade": true,
     "grade_id": "cell-4fd7f0891b2de808",
     "locked": true,
     "points": 3,
     "schema_version": 3,
     "solution": false,
     "task": false
    }
   },
   "outputs": [
    {
     "ename": "error",
     "evalue": "compile_error",
     "output_type": "error",
     "traceback": [
      "File \"[137]\", line 1, characters 66-82:\n1 | ;; let __ : 'a. 'a comparator -> ('a -> 'a) -> 'a bst -> 'a bst = map_nonmonotonic in ()\n                                                                      ^^^^^^^^^^^^^^^^\nError: This expression has type\n         ('a -> 'a) -> ('a -> 'a -> ordering/2) -> 'a bst -> 'a bst\n       but an expression was expected of type\n         'a comparator -> ('a -> 'a) -> 'a bst -> 'a bst\n       Type 'a -> 'a is not compatible with type\n         'a comparator = 'a -> 'a -> ordering/1 \n       The type variable 'a occurs inside 'a -> ordering/1\n       File \"[126]\", line 1, characters 0-53:\n         Definition of type ordering/1\n       File \"[60]\", line 1, characters 0-53:\n         Definition of type ordering/2\n"
     ]
    }
   ],
   "source": [
    ";; let __ : 'a. 'a comparator -> ('a -> 'a) -> 'a bst -> 'a bst = map_nonmonotonic in ()"
   ]
  },
  {
   "cell_type": "markdown",
   "metadata": {
    "deletable": false,
    "editable": false,
    "nbgrader": {
     "cell_type": "markdown",
     "checksum": "698087845590bb784f322d62c86d0b29",
     "grade": false,
     "grade_id": "cell-4c7504629657a405",
     "locked": true,
     "schema_version": 3,
     "solution": false,
     "task": false
    }
   },
   "source": [
    "<hr/>\n",
    "\n",
    "## 5. Extension questions (_non-compulsory_)\n",
    "\n",
    "`fold` functions are functions for _summarising_ data structures. `fold_right`\n",
    "is identical to `fold_left`, but consumes elements of the list from _right to\n",
    "left_. That is:\n",
    "\n",
    "> `fold_right` $f\\ [b_1; b_2; ... b_n]\\ a$ = $f\\ b_1\\ (f\\ b_2\\ (...\\ (f\\ b_n\\ a)\\ ...))$\n",
    "\n",
    "Note that this is equivalent to replacing every `( :: )` node in the list with $f$, and every `[]` node (of which there is only one) with $a$.\n",
    "\n",
    "\n",
    "1. implement `fold_right`."
   ]
  },
  {
   "cell_type": "code",
   "execution_count": null,
   "metadata": {
    "deletable": false,
    "nbgrader": {
     "cell_type": "code",
     "checksum": "68c2cdc8f3f8c10d99b4067674c4599b",
     "grade": true,
     "grade_id": "cell-65dfef2de82985cb",
     "locked": false,
     "points": 1,
     "schema_version": 3,
     "solution": true,
     "task": false
    }
   },
   "outputs": [],
   "source": [
    "let fold_right : 'a 'b. ('b -> 'a -> 'a) -> 'b list -> 'a -> 'a =\n",
    "  failwith \"TODO: solution\""
   ]
  },
  {
   "cell_type": "markdown",
   "metadata": {
    "deletable": false,
    "editable": false,
    "nbgrader": {
     "cell_type": "markdown",
     "checksum": "a7ea647f8d1e32b4479464f9a1c36313",
     "grade": false,
     "grade_id": "cell-d839fa813af2f2d9",
     "locked": true,
     "schema_version": 3,
     "solution": false,
     "task": false
    }
   },
   "source": [
    "\n",
    "2. Implement all of the list utility functions in terms of a _single_ call to\n",
    "   `fold_right`. Your functions should **not** be recursive or define any inner\n",
    "   recursive functions.\n"
   ]
  },
  {
   "cell_type": "code",
   "execution_count": null,
   "metadata": {
    "deletable": false,
    "nbgrader": {
     "cell_type": "code",
     "checksum": "73e77da950501bc8b87e14c6478ec456",
     "grade": true,
     "grade_id": "cell-89b346a36c0d909c",
     "locked": false,
     "points": 1,
     "schema_version": 3,
     "solution": true,
     "task": false
    }
   },
   "outputs": [],
   "source": [
    "let length : 'a. 'a list -> int = fun l ->\n",
    "  fold_right\n",
    "    failwith \"TODO: solution\""
   ]
  },
  {
   "cell_type": "code",
   "execution_count": null,
   "metadata": {
    "deletable": false,
    "nbgrader": {
     "cell_type": "code",
     "checksum": "d3e7089fd69a53c774dbc4c19640dba2",
     "grade": true,
     "grade_id": "cell-72b665e1f11ef32b",
     "locked": false,
     "points": 1,
     "schema_version": 3,
     "solution": true,
     "task": false
    }
   },
   "outputs": [],
   "source": [
    "let map : 'a 'b. ('a -> 'b) -> 'a list -> 'b list = fun f l ->\n",
    "  fold_right\n",
    "    failwith \"TODO: solution\""
   ]
  },
  {
   "cell_type": "code",
   "execution_count": null,
   "metadata": {
    "deletable": false,
    "nbgrader": {
     "cell_type": "code",
     "checksum": "5f0e2a1cd660da07f2ec155f5b6f8e67",
     "grade": true,
     "grade_id": "cell-195b25a1f6e6ba28",
     "locked": false,
     "points": 1,
     "schema_version": 3,
     "solution": true,
     "task": false
    }
   },
   "outputs": [],
   "source": [
    "let filter : 'a. ('a -> bool) -> 'a list -> 'a list = fun p l ->\n",
    "  fold_right\n",
    "    failwith \"TODO: solution\""
   ]
  },
  {
   "cell_type": "code",
   "execution_count": null,
   "metadata": {
    "deletable": false,
    "nbgrader": {
     "cell_type": "code",
     "checksum": "04b5b67ab107e3e839e20da2eb5a205a",
     "grade": true,
     "grade_id": "cell-9893537b1f1fb47c",
     "locked": false,
     "points": 1,
     "schema_version": 3,
     "solution": true,
     "task": false
    }
   },
   "outputs": [],
   "source": [
    "let append : 'a. 'a list -> 'a list -> 'a list = fun l1 l2 ->\n",
    "  fold_right\n",
    "    failwith \"TODO: solution\""
   ]
  },
  {
   "cell_type": "code",
   "execution_count": null,
   "metadata": {
    "deletable": false,
    "nbgrader": {
     "cell_type": "code",
     "checksum": "ee4237accce40cbebba636b4b4479f1b",
     "grade": true,
     "grade_id": "cell-29c7df02d9c8fc5a",
     "locked": false,
     "points": 3,
     "schema_version": 3,
     "solution": true,
     "task": false
    }
   },
   "outputs": [],
   "source": [
    "(* N.B. this one is harder *)\n",
    "let fold_left : 'a 'b. ('a -> 'b -> 'a) -> 'a -> 'b list -> 'a = fun f a l ->\n",
    "  fold_right\n",
    "    failwith \"TODO: solution\""
   ]
  }
 ],
 "metadata": {
  "kernelspec": {
   "display_name": "OCaml default",
   "language": "OCaml",
   "name": "ocaml-jupyter"
  },
  "language_info": {
   "codemirror_mode": "text/x-ocaml",
   "file_extension": ".ml",
   "mimetype": "text/x-ocaml",
   "name": "OCaml",
   "nbconverter_exporter": null,
   "pygments_lexer": "OCaml",
   "version": "4.08.1"
  }
 },
 "nbformat": 4,
 "nbformat_minor": 2
}
